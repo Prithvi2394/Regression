{
  "nbformat": 4,
  "nbformat_minor": 0,
  "metadata": {
    "colab": {
      "provenance": []
    },
    "kernelspec": {
      "name": "python3",
      "display_name": "Python 3"
    },
    "language_info": {
      "name": "python"
    },
    "gpuClass": "standard",
    "accelerator": "GPU"
  },
  "cells": [
    {
      "cell_type": "code",
      "execution_count": 1,
      "metadata": {
        "id": "3IuUOgnCT29U"
      },
      "outputs": [],
      "source": [
        "import pandas as pd\n",
        "import numpy as np\n",
        "import seaborn as sns\n",
        "import matplotlib.pyplot as plt\n",
        "%matplotlib inline\n",
        "import warnings\n",
        "warnings.filterwarnings('ignore')\n",
        "import pickle\n",
        "import io"
      ]
    },
    {
      "cell_type": "code",
      "source": [
        "path_1 = \"/content/drive/MyDrive/Scunia Truck/aps_failure_training_set.csv\"\n",
        "path_2 = '/content/drive/MyDrive/Scunia Truck/aps_failure_test_set.csv'"
      ],
      "metadata": {
        "id": "uVMHZvCtMeNx"
      },
      "execution_count": 2,
      "outputs": []
    },
    {
      "cell_type": "code",
      "source": [
        "train = pd.read_csv(path_1, na_values=\"na\")\n"
      ],
      "metadata": {
        "id": "kSRAKXmNPcO_"
      },
      "execution_count": 3,
      "outputs": []
    },
    {
      "cell_type": "code",
      "source": [
        "train.head()"
      ],
      "metadata": {
        "id": "nZHmf792Pn08",
        "colab": {
          "base_uri": "https://localhost:8080/",
          "height": 279
        },
        "outputId": "d7b89a38-6eca-4f8b-a52d-670754cb0b5f"
      },
      "execution_count": 4,
      "outputs": [
        {
          "output_type": "execute_result",
          "data": {
            "text/plain": [
              "  class  aa_000  ab_000        ac_000  ad_000  ae_000  af_000  ag_000  ag_001  \\\n",
              "0   neg   76698     NaN  2.130706e+09   280.0     0.0     0.0     0.0     0.0   \n",
              "1   neg   33058     NaN  0.000000e+00     NaN     0.0     0.0     0.0     0.0   \n",
              "2   neg   41040     NaN  2.280000e+02   100.0     0.0     0.0     0.0     0.0   \n",
              "3   neg      12     0.0  7.000000e+01    66.0     0.0    10.0     0.0     0.0   \n",
              "4   neg   60874     NaN  1.368000e+03   458.0     0.0     0.0     0.0     0.0   \n",
              "\n",
              "   ag_002  ...     ee_002    ee_003    ee_004    ee_005    ee_006    ee_007  \\\n",
              "0     0.0  ...  1240520.0  493384.0  721044.0  469792.0  339156.0  157956.0   \n",
              "1     0.0  ...   421400.0  178064.0  293306.0  245416.0  133654.0   81140.0   \n",
              "2     0.0  ...   277378.0  159812.0  423992.0  409564.0  320746.0  158022.0   \n",
              "3     0.0  ...      240.0      46.0      58.0      44.0      10.0       0.0   \n",
              "4     0.0  ...   622012.0  229790.0  405298.0  347188.0  286954.0  311560.0   \n",
              "\n",
              "     ee_008  ee_009  ef_000  eg_000  \n",
              "0   73224.0     0.0     0.0     0.0  \n",
              "1   97576.0  1500.0     0.0     0.0  \n",
              "2   95128.0   514.0     0.0     0.0  \n",
              "3       0.0     0.0     4.0    32.0  \n",
              "4  433954.0  1218.0     0.0     0.0  \n",
              "\n",
              "[5 rows x 171 columns]"
            ],
            "text/html": [
              "\n",
              "  <div id=\"df-11399c9e-bc55-40a0-b76e-58113108521c\">\n",
              "    <div class=\"colab-df-container\">\n",
              "      <div>\n",
              "<style scoped>\n",
              "    .dataframe tbody tr th:only-of-type {\n",
              "        vertical-align: middle;\n",
              "    }\n",
              "\n",
              "    .dataframe tbody tr th {\n",
              "        vertical-align: top;\n",
              "    }\n",
              "\n",
              "    .dataframe thead th {\n",
              "        text-align: right;\n",
              "    }\n",
              "</style>\n",
              "<table border=\"1\" class=\"dataframe\">\n",
              "  <thead>\n",
              "    <tr style=\"text-align: right;\">\n",
              "      <th></th>\n",
              "      <th>class</th>\n",
              "      <th>aa_000</th>\n",
              "      <th>ab_000</th>\n",
              "      <th>ac_000</th>\n",
              "      <th>ad_000</th>\n",
              "      <th>ae_000</th>\n",
              "      <th>af_000</th>\n",
              "      <th>ag_000</th>\n",
              "      <th>ag_001</th>\n",
              "      <th>ag_002</th>\n",
              "      <th>...</th>\n",
              "      <th>ee_002</th>\n",
              "      <th>ee_003</th>\n",
              "      <th>ee_004</th>\n",
              "      <th>ee_005</th>\n",
              "      <th>ee_006</th>\n",
              "      <th>ee_007</th>\n",
              "      <th>ee_008</th>\n",
              "      <th>ee_009</th>\n",
              "      <th>ef_000</th>\n",
              "      <th>eg_000</th>\n",
              "    </tr>\n",
              "  </thead>\n",
              "  <tbody>\n",
              "    <tr>\n",
              "      <th>0</th>\n",
              "      <td>neg</td>\n",
              "      <td>76698</td>\n",
              "      <td>NaN</td>\n",
              "      <td>2.130706e+09</td>\n",
              "      <td>280.0</td>\n",
              "      <td>0.0</td>\n",
              "      <td>0.0</td>\n",
              "      <td>0.0</td>\n",
              "      <td>0.0</td>\n",
              "      <td>0.0</td>\n",
              "      <td>...</td>\n",
              "      <td>1240520.0</td>\n",
              "      <td>493384.0</td>\n",
              "      <td>721044.0</td>\n",
              "      <td>469792.0</td>\n",
              "      <td>339156.0</td>\n",
              "      <td>157956.0</td>\n",
              "      <td>73224.0</td>\n",
              "      <td>0.0</td>\n",
              "      <td>0.0</td>\n",
              "      <td>0.0</td>\n",
              "    </tr>\n",
              "    <tr>\n",
              "      <th>1</th>\n",
              "      <td>neg</td>\n",
              "      <td>33058</td>\n",
              "      <td>NaN</td>\n",
              "      <td>0.000000e+00</td>\n",
              "      <td>NaN</td>\n",
              "      <td>0.0</td>\n",
              "      <td>0.0</td>\n",
              "      <td>0.0</td>\n",
              "      <td>0.0</td>\n",
              "      <td>0.0</td>\n",
              "      <td>...</td>\n",
              "      <td>421400.0</td>\n",
              "      <td>178064.0</td>\n",
              "      <td>293306.0</td>\n",
              "      <td>245416.0</td>\n",
              "      <td>133654.0</td>\n",
              "      <td>81140.0</td>\n",
              "      <td>97576.0</td>\n",
              "      <td>1500.0</td>\n",
              "      <td>0.0</td>\n",
              "      <td>0.0</td>\n",
              "    </tr>\n",
              "    <tr>\n",
              "      <th>2</th>\n",
              "      <td>neg</td>\n",
              "      <td>41040</td>\n",
              "      <td>NaN</td>\n",
              "      <td>2.280000e+02</td>\n",
              "      <td>100.0</td>\n",
              "      <td>0.0</td>\n",
              "      <td>0.0</td>\n",
              "      <td>0.0</td>\n",
              "      <td>0.0</td>\n",
              "      <td>0.0</td>\n",
              "      <td>...</td>\n",
              "      <td>277378.0</td>\n",
              "      <td>159812.0</td>\n",
              "      <td>423992.0</td>\n",
              "      <td>409564.0</td>\n",
              "      <td>320746.0</td>\n",
              "      <td>158022.0</td>\n",
              "      <td>95128.0</td>\n",
              "      <td>514.0</td>\n",
              "      <td>0.0</td>\n",
              "      <td>0.0</td>\n",
              "    </tr>\n",
              "    <tr>\n",
              "      <th>3</th>\n",
              "      <td>neg</td>\n",
              "      <td>12</td>\n",
              "      <td>0.0</td>\n",
              "      <td>7.000000e+01</td>\n",
              "      <td>66.0</td>\n",
              "      <td>0.0</td>\n",
              "      <td>10.0</td>\n",
              "      <td>0.0</td>\n",
              "      <td>0.0</td>\n",
              "      <td>0.0</td>\n",
              "      <td>...</td>\n",
              "      <td>240.0</td>\n",
              "      <td>46.0</td>\n",
              "      <td>58.0</td>\n",
              "      <td>44.0</td>\n",
              "      <td>10.0</td>\n",
              "      <td>0.0</td>\n",
              "      <td>0.0</td>\n",
              "      <td>0.0</td>\n",
              "      <td>4.0</td>\n",
              "      <td>32.0</td>\n",
              "    </tr>\n",
              "    <tr>\n",
              "      <th>4</th>\n",
              "      <td>neg</td>\n",
              "      <td>60874</td>\n",
              "      <td>NaN</td>\n",
              "      <td>1.368000e+03</td>\n",
              "      <td>458.0</td>\n",
              "      <td>0.0</td>\n",
              "      <td>0.0</td>\n",
              "      <td>0.0</td>\n",
              "      <td>0.0</td>\n",
              "      <td>0.0</td>\n",
              "      <td>...</td>\n",
              "      <td>622012.0</td>\n",
              "      <td>229790.0</td>\n",
              "      <td>405298.0</td>\n",
              "      <td>347188.0</td>\n",
              "      <td>286954.0</td>\n",
              "      <td>311560.0</td>\n",
              "      <td>433954.0</td>\n",
              "      <td>1218.0</td>\n",
              "      <td>0.0</td>\n",
              "      <td>0.0</td>\n",
              "    </tr>\n",
              "  </tbody>\n",
              "</table>\n",
              "<p>5 rows × 171 columns</p>\n",
              "</div>\n",
              "      <button class=\"colab-df-convert\" onclick=\"convertToInteractive('df-11399c9e-bc55-40a0-b76e-58113108521c')\"\n",
              "              title=\"Convert this dataframe to an interactive table.\"\n",
              "              style=\"display:none;\">\n",
              "        \n",
              "  <svg xmlns=\"http://www.w3.org/2000/svg\" height=\"24px\"viewBox=\"0 0 24 24\"\n",
              "       width=\"24px\">\n",
              "    <path d=\"M0 0h24v24H0V0z\" fill=\"none\"/>\n",
              "    <path d=\"M18.56 5.44l.94 2.06.94-2.06 2.06-.94-2.06-.94-.94-2.06-.94 2.06-2.06.94zm-11 1L8.5 8.5l.94-2.06 2.06-.94-2.06-.94L8.5 2.5l-.94 2.06-2.06.94zm10 10l.94 2.06.94-2.06 2.06-.94-2.06-.94-.94-2.06-.94 2.06-2.06.94z\"/><path d=\"M17.41 7.96l-1.37-1.37c-.4-.4-.92-.59-1.43-.59-.52 0-1.04.2-1.43.59L10.3 9.45l-7.72 7.72c-.78.78-.78 2.05 0 2.83L4 21.41c.39.39.9.59 1.41.59.51 0 1.02-.2 1.41-.59l7.78-7.78 2.81-2.81c.8-.78.8-2.07 0-2.86zM5.41 20L4 18.59l7.72-7.72 1.47 1.35L5.41 20z\"/>\n",
              "  </svg>\n",
              "      </button>\n",
              "      \n",
              "  <style>\n",
              "    .colab-df-container {\n",
              "      display:flex;\n",
              "      flex-wrap:wrap;\n",
              "      gap: 12px;\n",
              "    }\n",
              "\n",
              "    .colab-df-convert {\n",
              "      background-color: #E8F0FE;\n",
              "      border: none;\n",
              "      border-radius: 50%;\n",
              "      cursor: pointer;\n",
              "      display: none;\n",
              "      fill: #1967D2;\n",
              "      height: 32px;\n",
              "      padding: 0 0 0 0;\n",
              "      width: 32px;\n",
              "    }\n",
              "\n",
              "    .colab-df-convert:hover {\n",
              "      background-color: #E2EBFA;\n",
              "      box-shadow: 0px 1px 2px rgba(60, 64, 67, 0.3), 0px 1px 3px 1px rgba(60, 64, 67, 0.15);\n",
              "      fill: #174EA6;\n",
              "    }\n",
              "\n",
              "    [theme=dark] .colab-df-convert {\n",
              "      background-color: #3B4455;\n",
              "      fill: #D2E3FC;\n",
              "    }\n",
              "\n",
              "    [theme=dark] .colab-df-convert:hover {\n",
              "      background-color: #434B5C;\n",
              "      box-shadow: 0px 1px 3px 1px rgba(0, 0, 0, 0.15);\n",
              "      filter: drop-shadow(0px 1px 2px rgba(0, 0, 0, 0.3));\n",
              "      fill: #FFFFFF;\n",
              "    }\n",
              "  </style>\n",
              "\n",
              "      <script>\n",
              "        const buttonEl =\n",
              "          document.querySelector('#df-11399c9e-bc55-40a0-b76e-58113108521c button.colab-df-convert');\n",
              "        buttonEl.style.display =\n",
              "          google.colab.kernel.accessAllowed ? 'block' : 'none';\n",
              "\n",
              "        async function convertToInteractive(key) {\n",
              "          const element = document.querySelector('#df-11399c9e-bc55-40a0-b76e-58113108521c');\n",
              "          const dataTable =\n",
              "            await google.colab.kernel.invokeFunction('convertToInteractive',\n",
              "                                                     [key], {});\n",
              "          if (!dataTable) return;\n",
              "\n",
              "          const docLinkHtml = 'Like what you see? Visit the ' +\n",
              "            '<a target=\"_blank\" href=https://colab.research.google.com/notebooks/data_table.ipynb>data table notebook</a>'\n",
              "            + ' to learn more about interactive tables.';\n",
              "          element.innerHTML = '';\n",
              "          dataTable['output_type'] = 'display_data';\n",
              "          await google.colab.output.renderOutput(dataTable, element);\n",
              "          const docLink = document.createElement('div');\n",
              "          docLink.innerHTML = docLinkHtml;\n",
              "          element.appendChild(docLink);\n",
              "        }\n",
              "      </script>\n",
              "    </div>\n",
              "  </div>\n",
              "  "
            ]
          },
          "metadata": {},
          "execution_count": 4
        }
      ]
    },
    {
      "cell_type": "code",
      "source": [
        "train.shape"
      ],
      "metadata": {
        "colab": {
          "base_uri": "https://localhost:8080/"
        },
        "id": "pyQ8yvkcM-1T",
        "outputId": "e32defb9-c10e-471b-811c-9efbddb15c3b"
      },
      "execution_count": 5,
      "outputs": [
        {
          "output_type": "execute_result",
          "data": {
            "text/plain": [
              "(60000, 171)"
            ]
          },
          "metadata": {},
          "execution_count": 5
        }
      ]
    },
    {
      "cell_type": "code",
      "source": [
        "train.columns"
      ],
      "metadata": {
        "colab": {
          "base_uri": "https://localhost:8080/"
        },
        "id": "oSNOV3edNmvB",
        "outputId": "314e8516-b892-4f57-d276-bf9585d61560"
      },
      "execution_count": 6,
      "outputs": [
        {
          "output_type": "execute_result",
          "data": {
            "text/plain": [
              "Index(['class', 'aa_000', 'ab_000', 'ac_000', 'ad_000', 'ae_000', 'af_000',\n",
              "       'ag_000', 'ag_001', 'ag_002',\n",
              "       ...\n",
              "       'ee_002', 'ee_003', 'ee_004', 'ee_005', 'ee_006', 'ee_007', 'ee_008',\n",
              "       'ee_009', 'ef_000', 'eg_000'],\n",
              "      dtype='object', length=171)"
            ]
          },
          "metadata": {},
          "execution_count": 6
        }
      ]
    },
    {
      "cell_type": "code",
      "source": [
        "train.describe()"
      ],
      "metadata": {
        "colab": {
          "base_uri": "https://localhost:8080/",
          "height": 394
        },
        "id": "NDZ0xW81dvhb",
        "outputId": "85a3c295-4e4c-4b17-fbed-c34b890d8ce7"
      },
      "execution_count": 7,
      "outputs": [
        {
          "output_type": "execute_result",
          "data": {
            "text/plain": [
              "             aa_000        ab_000        ac_000        ad_000        ae_000  \\\n",
              "count  6.000000e+04  13671.000000  5.666500e+04  4.513900e+04  57500.000000   \n",
              "mean   5.933650e+04      0.713189  3.560143e+08  1.906206e+05      6.819130   \n",
              "std    1.454301e+05      3.478962  7.948749e+08  4.040441e+07    161.543373   \n",
              "min    0.000000e+00      0.000000  0.000000e+00  0.000000e+00      0.000000   \n",
              "25%    8.340000e+02      0.000000  1.600000e+01  2.400000e+01      0.000000   \n",
              "50%    3.077600e+04      0.000000  1.520000e+02  1.260000e+02      0.000000   \n",
              "75%    4.866800e+04      0.000000  9.640000e+02  4.300000e+02      0.000000   \n",
              "max    2.746564e+06    204.000000  2.130707e+09  8.584298e+09  21050.000000   \n",
              "\n",
              "             af_000        ag_000        ag_001        ag_002        ag_003  \\\n",
              "count  57500.000000  5.932900e+04  5.932900e+04  5.932900e+04  5.932900e+04   \n",
              "mean      11.006817  2.216364e+02  9.757223e+02  8.606015e+03  8.859128e+04   \n",
              "std      209.792592  2.047846e+04  3.420053e+04  1.503220e+05  7.617312e+05   \n",
              "min        0.000000  0.000000e+00  0.000000e+00  0.000000e+00  0.000000e+00   \n",
              "25%        0.000000  0.000000e+00  0.000000e+00  0.000000e+00  0.000000e+00   \n",
              "50%        0.000000  0.000000e+00  0.000000e+00  0.000000e+00  0.000000e+00   \n",
              "75%        0.000000  0.000000e+00  0.000000e+00  0.000000e+00  0.000000e+00   \n",
              "max    20070.000000  3.376892e+06  4.109372e+06  1.055286e+07  6.340207e+07   \n",
              "\n",
              "       ...        ee_002        ee_003        ee_004        ee_005  \\\n",
              "count  ...  5.932900e+04  5.932900e+04  5.932900e+04  5.932900e+04   \n",
              "mean   ...  4.454897e+05  2.111264e+05  4.457343e+05  3.939462e+05   \n",
              "std    ...  1.155540e+06  5.433188e+05  1.168314e+06  1.121044e+06   \n",
              "min    ...  0.000000e+00  0.000000e+00  0.000000e+00  0.000000e+00   \n",
              "25%    ...  2.936000e+03  1.166000e+03  2.700000e+03  3.584000e+03   \n",
              "50%    ...  2.337960e+05  1.120860e+05  2.215180e+05  1.899880e+05   \n",
              "75%    ...  4.383960e+05  2.182320e+05  4.666140e+05  4.032220e+05   \n",
              "max    ...  7.793393e+07  3.775839e+07  9.715238e+07  5.743524e+07   \n",
              "\n",
              "             ee_006        ee_007        ee_008        ee_009        ef_000  \\\n",
              "count  5.932900e+04  5.932900e+04  5.932900e+04  5.932900e+04  57276.000000   \n",
              "mean   3.330582e+05  3.462714e+05  1.387300e+05  8.388915e+03      0.090579   \n",
              "std    1.069160e+06  1.728056e+06  4.495100e+05  4.747043e+04      4.368855   \n",
              "min    0.000000e+00  0.000000e+00  0.000000e+00  0.000000e+00      0.000000   \n",
              "25%    5.120000e+02  1.100000e+02  0.000000e+00  0.000000e+00      0.000000   \n",
              "50%    9.243200e+04  4.109800e+04  3.812000e+03  0.000000e+00      0.000000   \n",
              "75%    2.750940e+05  1.678140e+05  1.397240e+05  2.028000e+03      0.000000   \n",
              "max    3.160781e+07  1.195801e+08  1.926740e+07  3.810078e+06    482.000000   \n",
              "\n",
              "             eg_000  \n",
              "count  57277.000000  \n",
              "mean       0.212756  \n",
              "std        8.830641  \n",
              "min        0.000000  \n",
              "25%        0.000000  \n",
              "50%        0.000000  \n",
              "75%        0.000000  \n",
              "max     1146.000000  \n",
              "\n",
              "[8 rows x 170 columns]"
            ],
            "text/html": [
              "\n",
              "  <div id=\"df-cee7d031-7dfa-4bcd-99dc-6a754705cd04\">\n",
              "    <div class=\"colab-df-container\">\n",
              "      <div>\n",
              "<style scoped>\n",
              "    .dataframe tbody tr th:only-of-type {\n",
              "        vertical-align: middle;\n",
              "    }\n",
              "\n",
              "    .dataframe tbody tr th {\n",
              "        vertical-align: top;\n",
              "    }\n",
              "\n",
              "    .dataframe thead th {\n",
              "        text-align: right;\n",
              "    }\n",
              "</style>\n",
              "<table border=\"1\" class=\"dataframe\">\n",
              "  <thead>\n",
              "    <tr style=\"text-align: right;\">\n",
              "      <th></th>\n",
              "      <th>aa_000</th>\n",
              "      <th>ab_000</th>\n",
              "      <th>ac_000</th>\n",
              "      <th>ad_000</th>\n",
              "      <th>ae_000</th>\n",
              "      <th>af_000</th>\n",
              "      <th>ag_000</th>\n",
              "      <th>ag_001</th>\n",
              "      <th>ag_002</th>\n",
              "      <th>ag_003</th>\n",
              "      <th>...</th>\n",
              "      <th>ee_002</th>\n",
              "      <th>ee_003</th>\n",
              "      <th>ee_004</th>\n",
              "      <th>ee_005</th>\n",
              "      <th>ee_006</th>\n",
              "      <th>ee_007</th>\n",
              "      <th>ee_008</th>\n",
              "      <th>ee_009</th>\n",
              "      <th>ef_000</th>\n",
              "      <th>eg_000</th>\n",
              "    </tr>\n",
              "  </thead>\n",
              "  <tbody>\n",
              "    <tr>\n",
              "      <th>count</th>\n",
              "      <td>6.000000e+04</td>\n",
              "      <td>13671.000000</td>\n",
              "      <td>5.666500e+04</td>\n",
              "      <td>4.513900e+04</td>\n",
              "      <td>57500.000000</td>\n",
              "      <td>57500.000000</td>\n",
              "      <td>5.932900e+04</td>\n",
              "      <td>5.932900e+04</td>\n",
              "      <td>5.932900e+04</td>\n",
              "      <td>5.932900e+04</td>\n",
              "      <td>...</td>\n",
              "      <td>5.932900e+04</td>\n",
              "      <td>5.932900e+04</td>\n",
              "      <td>5.932900e+04</td>\n",
              "      <td>5.932900e+04</td>\n",
              "      <td>5.932900e+04</td>\n",
              "      <td>5.932900e+04</td>\n",
              "      <td>5.932900e+04</td>\n",
              "      <td>5.932900e+04</td>\n",
              "      <td>57276.000000</td>\n",
              "      <td>57277.000000</td>\n",
              "    </tr>\n",
              "    <tr>\n",
              "      <th>mean</th>\n",
              "      <td>5.933650e+04</td>\n",
              "      <td>0.713189</td>\n",
              "      <td>3.560143e+08</td>\n",
              "      <td>1.906206e+05</td>\n",
              "      <td>6.819130</td>\n",
              "      <td>11.006817</td>\n",
              "      <td>2.216364e+02</td>\n",
              "      <td>9.757223e+02</td>\n",
              "      <td>8.606015e+03</td>\n",
              "      <td>8.859128e+04</td>\n",
              "      <td>...</td>\n",
              "      <td>4.454897e+05</td>\n",
              "      <td>2.111264e+05</td>\n",
              "      <td>4.457343e+05</td>\n",
              "      <td>3.939462e+05</td>\n",
              "      <td>3.330582e+05</td>\n",
              "      <td>3.462714e+05</td>\n",
              "      <td>1.387300e+05</td>\n",
              "      <td>8.388915e+03</td>\n",
              "      <td>0.090579</td>\n",
              "      <td>0.212756</td>\n",
              "    </tr>\n",
              "    <tr>\n",
              "      <th>std</th>\n",
              "      <td>1.454301e+05</td>\n",
              "      <td>3.478962</td>\n",
              "      <td>7.948749e+08</td>\n",
              "      <td>4.040441e+07</td>\n",
              "      <td>161.543373</td>\n",
              "      <td>209.792592</td>\n",
              "      <td>2.047846e+04</td>\n",
              "      <td>3.420053e+04</td>\n",
              "      <td>1.503220e+05</td>\n",
              "      <td>7.617312e+05</td>\n",
              "      <td>...</td>\n",
              "      <td>1.155540e+06</td>\n",
              "      <td>5.433188e+05</td>\n",
              "      <td>1.168314e+06</td>\n",
              "      <td>1.121044e+06</td>\n",
              "      <td>1.069160e+06</td>\n",
              "      <td>1.728056e+06</td>\n",
              "      <td>4.495100e+05</td>\n",
              "      <td>4.747043e+04</td>\n",
              "      <td>4.368855</td>\n",
              "      <td>8.830641</td>\n",
              "    </tr>\n",
              "    <tr>\n",
              "      <th>min</th>\n",
              "      <td>0.000000e+00</td>\n",
              "      <td>0.000000</td>\n",
              "      <td>0.000000e+00</td>\n",
              "      <td>0.000000e+00</td>\n",
              "      <td>0.000000</td>\n",
              "      <td>0.000000</td>\n",
              "      <td>0.000000e+00</td>\n",
              "      <td>0.000000e+00</td>\n",
              "      <td>0.000000e+00</td>\n",
              "      <td>0.000000e+00</td>\n",
              "      <td>...</td>\n",
              "      <td>0.000000e+00</td>\n",
              "      <td>0.000000e+00</td>\n",
              "      <td>0.000000e+00</td>\n",
              "      <td>0.000000e+00</td>\n",
              "      <td>0.000000e+00</td>\n",
              "      <td>0.000000e+00</td>\n",
              "      <td>0.000000e+00</td>\n",
              "      <td>0.000000e+00</td>\n",
              "      <td>0.000000</td>\n",
              "      <td>0.000000</td>\n",
              "    </tr>\n",
              "    <tr>\n",
              "      <th>25%</th>\n",
              "      <td>8.340000e+02</td>\n",
              "      <td>0.000000</td>\n",
              "      <td>1.600000e+01</td>\n",
              "      <td>2.400000e+01</td>\n",
              "      <td>0.000000</td>\n",
              "      <td>0.000000</td>\n",
              "      <td>0.000000e+00</td>\n",
              "      <td>0.000000e+00</td>\n",
              "      <td>0.000000e+00</td>\n",
              "      <td>0.000000e+00</td>\n",
              "      <td>...</td>\n",
              "      <td>2.936000e+03</td>\n",
              "      <td>1.166000e+03</td>\n",
              "      <td>2.700000e+03</td>\n",
              "      <td>3.584000e+03</td>\n",
              "      <td>5.120000e+02</td>\n",
              "      <td>1.100000e+02</td>\n",
              "      <td>0.000000e+00</td>\n",
              "      <td>0.000000e+00</td>\n",
              "      <td>0.000000</td>\n",
              "      <td>0.000000</td>\n",
              "    </tr>\n",
              "    <tr>\n",
              "      <th>50%</th>\n",
              "      <td>3.077600e+04</td>\n",
              "      <td>0.000000</td>\n",
              "      <td>1.520000e+02</td>\n",
              "      <td>1.260000e+02</td>\n",
              "      <td>0.000000</td>\n",
              "      <td>0.000000</td>\n",
              "      <td>0.000000e+00</td>\n",
              "      <td>0.000000e+00</td>\n",
              "      <td>0.000000e+00</td>\n",
              "      <td>0.000000e+00</td>\n",
              "      <td>...</td>\n",
              "      <td>2.337960e+05</td>\n",
              "      <td>1.120860e+05</td>\n",
              "      <td>2.215180e+05</td>\n",
              "      <td>1.899880e+05</td>\n",
              "      <td>9.243200e+04</td>\n",
              "      <td>4.109800e+04</td>\n",
              "      <td>3.812000e+03</td>\n",
              "      <td>0.000000e+00</td>\n",
              "      <td>0.000000</td>\n",
              "      <td>0.000000</td>\n",
              "    </tr>\n",
              "    <tr>\n",
              "      <th>75%</th>\n",
              "      <td>4.866800e+04</td>\n",
              "      <td>0.000000</td>\n",
              "      <td>9.640000e+02</td>\n",
              "      <td>4.300000e+02</td>\n",
              "      <td>0.000000</td>\n",
              "      <td>0.000000</td>\n",
              "      <td>0.000000e+00</td>\n",
              "      <td>0.000000e+00</td>\n",
              "      <td>0.000000e+00</td>\n",
              "      <td>0.000000e+00</td>\n",
              "      <td>...</td>\n",
              "      <td>4.383960e+05</td>\n",
              "      <td>2.182320e+05</td>\n",
              "      <td>4.666140e+05</td>\n",
              "      <td>4.032220e+05</td>\n",
              "      <td>2.750940e+05</td>\n",
              "      <td>1.678140e+05</td>\n",
              "      <td>1.397240e+05</td>\n",
              "      <td>2.028000e+03</td>\n",
              "      <td>0.000000</td>\n",
              "      <td>0.000000</td>\n",
              "    </tr>\n",
              "    <tr>\n",
              "      <th>max</th>\n",
              "      <td>2.746564e+06</td>\n",
              "      <td>204.000000</td>\n",
              "      <td>2.130707e+09</td>\n",
              "      <td>8.584298e+09</td>\n",
              "      <td>21050.000000</td>\n",
              "      <td>20070.000000</td>\n",
              "      <td>3.376892e+06</td>\n",
              "      <td>4.109372e+06</td>\n",
              "      <td>1.055286e+07</td>\n",
              "      <td>6.340207e+07</td>\n",
              "      <td>...</td>\n",
              "      <td>7.793393e+07</td>\n",
              "      <td>3.775839e+07</td>\n",
              "      <td>9.715238e+07</td>\n",
              "      <td>5.743524e+07</td>\n",
              "      <td>3.160781e+07</td>\n",
              "      <td>1.195801e+08</td>\n",
              "      <td>1.926740e+07</td>\n",
              "      <td>3.810078e+06</td>\n",
              "      <td>482.000000</td>\n",
              "      <td>1146.000000</td>\n",
              "    </tr>\n",
              "  </tbody>\n",
              "</table>\n",
              "<p>8 rows × 170 columns</p>\n",
              "</div>\n",
              "      <button class=\"colab-df-convert\" onclick=\"convertToInteractive('df-cee7d031-7dfa-4bcd-99dc-6a754705cd04')\"\n",
              "              title=\"Convert this dataframe to an interactive table.\"\n",
              "              style=\"display:none;\">\n",
              "        \n",
              "  <svg xmlns=\"http://www.w3.org/2000/svg\" height=\"24px\"viewBox=\"0 0 24 24\"\n",
              "       width=\"24px\">\n",
              "    <path d=\"M0 0h24v24H0V0z\" fill=\"none\"/>\n",
              "    <path d=\"M18.56 5.44l.94 2.06.94-2.06 2.06-.94-2.06-.94-.94-2.06-.94 2.06-2.06.94zm-11 1L8.5 8.5l.94-2.06 2.06-.94-2.06-.94L8.5 2.5l-.94 2.06-2.06.94zm10 10l.94 2.06.94-2.06 2.06-.94-2.06-.94-.94-2.06-.94 2.06-2.06.94z\"/><path d=\"M17.41 7.96l-1.37-1.37c-.4-.4-.92-.59-1.43-.59-.52 0-1.04.2-1.43.59L10.3 9.45l-7.72 7.72c-.78.78-.78 2.05 0 2.83L4 21.41c.39.39.9.59 1.41.59.51 0 1.02-.2 1.41-.59l7.78-7.78 2.81-2.81c.8-.78.8-2.07 0-2.86zM5.41 20L4 18.59l7.72-7.72 1.47 1.35L5.41 20z\"/>\n",
              "  </svg>\n",
              "      </button>\n",
              "      \n",
              "  <style>\n",
              "    .colab-df-container {\n",
              "      display:flex;\n",
              "      flex-wrap:wrap;\n",
              "      gap: 12px;\n",
              "    }\n",
              "\n",
              "    .colab-df-convert {\n",
              "      background-color: #E8F0FE;\n",
              "      border: none;\n",
              "      border-radius: 50%;\n",
              "      cursor: pointer;\n",
              "      display: none;\n",
              "      fill: #1967D2;\n",
              "      height: 32px;\n",
              "      padding: 0 0 0 0;\n",
              "      width: 32px;\n",
              "    }\n",
              "\n",
              "    .colab-df-convert:hover {\n",
              "      background-color: #E2EBFA;\n",
              "      box-shadow: 0px 1px 2px rgba(60, 64, 67, 0.3), 0px 1px 3px 1px rgba(60, 64, 67, 0.15);\n",
              "      fill: #174EA6;\n",
              "    }\n",
              "\n",
              "    [theme=dark] .colab-df-convert {\n",
              "      background-color: #3B4455;\n",
              "      fill: #D2E3FC;\n",
              "    }\n",
              "\n",
              "    [theme=dark] .colab-df-convert:hover {\n",
              "      background-color: #434B5C;\n",
              "      box-shadow: 0px 1px 3px 1px rgba(0, 0, 0, 0.15);\n",
              "      filter: drop-shadow(0px 1px 2px rgba(0, 0, 0, 0.3));\n",
              "      fill: #FFFFFF;\n",
              "    }\n",
              "  </style>\n",
              "\n",
              "      <script>\n",
              "        const buttonEl =\n",
              "          document.querySelector('#df-cee7d031-7dfa-4bcd-99dc-6a754705cd04 button.colab-df-convert');\n",
              "        buttonEl.style.display =\n",
              "          google.colab.kernel.accessAllowed ? 'block' : 'none';\n",
              "\n",
              "        async function convertToInteractive(key) {\n",
              "          const element = document.querySelector('#df-cee7d031-7dfa-4bcd-99dc-6a754705cd04');\n",
              "          const dataTable =\n",
              "            await google.colab.kernel.invokeFunction('convertToInteractive',\n",
              "                                                     [key], {});\n",
              "          if (!dataTable) return;\n",
              "\n",
              "          const docLinkHtml = 'Like what you see? Visit the ' +\n",
              "            '<a target=\"_blank\" href=https://colab.research.google.com/notebooks/data_table.ipynb>data table notebook</a>'\n",
              "            + ' to learn more about interactive tables.';\n",
              "          element.innerHTML = '';\n",
              "          dataTable['output_type'] = 'display_data';\n",
              "          await google.colab.output.renderOutput(dataTable, element);\n",
              "          const docLink = document.createElement('div');\n",
              "          docLink.innerHTML = docLinkHtml;\n",
              "          element.appendChild(docLink);\n",
              "        }\n",
              "      </script>\n",
              "    </div>\n",
              "  </div>\n",
              "  "
            ]
          },
          "metadata": {},
          "execution_count": 7
        }
      ]
    },
    {
      "cell_type": "code",
      "source": [
        "train['class'].unique()"
      ],
      "metadata": {
        "colab": {
          "base_uri": "https://localhost:8080/"
        },
        "id": "ESLMU61ZN2Tk",
        "outputId": "c4297d78-a602-4cca-eeef-f4d36c9a06b5"
      },
      "execution_count": 8,
      "outputs": [
        {
          "output_type": "execute_result",
          "data": {
            "text/plain": [
              "array(['neg', 'pos'], dtype=object)"
            ]
          },
          "metadata": {},
          "execution_count": 8
        }
      ]
    },
    {
      "cell_type": "code",
      "source": [
        "train['class'].value_counts()"
      ],
      "metadata": {
        "colab": {
          "base_uri": "https://localhost:8080/"
        },
        "id": "uRm-4YGUeGtn",
        "outputId": "329a2c69-e98f-4184-d376-5b85352d57d7"
      },
      "execution_count": 9,
      "outputs": [
        {
          "output_type": "execute_result",
          "data": {
            "text/plain": [
              "neg    59000\n",
              "pos     1000\n",
              "Name: class, dtype: int64"
            ]
          },
          "metadata": {},
          "execution_count": 9
        }
      ]
    },
    {
      "cell_type": "markdown",
      "source": [
        " This data is highly imbalances as the negative observations are more than that of the positive observation"
      ],
      "metadata": {
        "id": "JgyIoa5pebt4"
      }
    },
    {
      "cell_type": "code",
      "source": [
        "def get_correct_label(y):\n",
        "    \"\"\"\n",
        "    This function converts the class labels from 'neg' and 'pos' to 0 and 1 respectively\n",
        "    \"\"\"\n",
        "    return y.replace(['neg','pos'],[0,1])\n",
        "\n",
        "print(train['class'].unique())\n",
        "train['class'] = get_correct_label(train['class'])\n",
        "print(train['class'].unique())"
      ],
      "metadata": {
        "colab": {
          "base_uri": "https://localhost:8080/"
        },
        "id": "sBu_xUVMbS-h",
        "outputId": "cc3f930d-a141-4a45-8c4c-bb72c33d368a"
      },
      "execution_count": 10,
      "outputs": [
        {
          "output_type": "stream",
          "name": "stdout",
          "text": [
            "['neg' 'pos']\n",
            "[0 1]\n"
          ]
        }
      ]
    },
    {
      "cell_type": "code",
      "source": [
        "train.head()"
      ],
      "metadata": {
        "colab": {
          "base_uri": "https://localhost:8080/",
          "height": 279
        },
        "id": "dz8P0f0b3nGz",
        "outputId": "f3f23ee6-182f-4c32-94ad-d235f6c37699"
      },
      "execution_count": 11,
      "outputs": [
        {
          "output_type": "execute_result",
          "data": {
            "text/plain": [
              "   class  aa_000  ab_000        ac_000  ad_000  ae_000  af_000  ag_000  \\\n",
              "0      0   76698     NaN  2.130706e+09   280.0     0.0     0.0     0.0   \n",
              "1      0   33058     NaN  0.000000e+00     NaN     0.0     0.0     0.0   \n",
              "2      0   41040     NaN  2.280000e+02   100.0     0.0     0.0     0.0   \n",
              "3      0      12     0.0  7.000000e+01    66.0     0.0    10.0     0.0   \n",
              "4      0   60874     NaN  1.368000e+03   458.0     0.0     0.0     0.0   \n",
              "\n",
              "   ag_001  ag_002  ...     ee_002    ee_003    ee_004    ee_005    ee_006  \\\n",
              "0     0.0     0.0  ...  1240520.0  493384.0  721044.0  469792.0  339156.0   \n",
              "1     0.0     0.0  ...   421400.0  178064.0  293306.0  245416.0  133654.0   \n",
              "2     0.0     0.0  ...   277378.0  159812.0  423992.0  409564.0  320746.0   \n",
              "3     0.0     0.0  ...      240.0      46.0      58.0      44.0      10.0   \n",
              "4     0.0     0.0  ...   622012.0  229790.0  405298.0  347188.0  286954.0   \n",
              "\n",
              "     ee_007    ee_008  ee_009  ef_000  eg_000  \n",
              "0  157956.0   73224.0     0.0     0.0     0.0  \n",
              "1   81140.0   97576.0  1500.0     0.0     0.0  \n",
              "2  158022.0   95128.0   514.0     0.0     0.0  \n",
              "3       0.0       0.0     0.0     4.0    32.0  \n",
              "4  311560.0  433954.0  1218.0     0.0     0.0  \n",
              "\n",
              "[5 rows x 171 columns]"
            ],
            "text/html": [
              "\n",
              "  <div id=\"df-872da1d9-46b8-4c5e-b6d6-0319de3cccc6\">\n",
              "    <div class=\"colab-df-container\">\n",
              "      <div>\n",
              "<style scoped>\n",
              "    .dataframe tbody tr th:only-of-type {\n",
              "        vertical-align: middle;\n",
              "    }\n",
              "\n",
              "    .dataframe tbody tr th {\n",
              "        vertical-align: top;\n",
              "    }\n",
              "\n",
              "    .dataframe thead th {\n",
              "        text-align: right;\n",
              "    }\n",
              "</style>\n",
              "<table border=\"1\" class=\"dataframe\">\n",
              "  <thead>\n",
              "    <tr style=\"text-align: right;\">\n",
              "      <th></th>\n",
              "      <th>class</th>\n",
              "      <th>aa_000</th>\n",
              "      <th>ab_000</th>\n",
              "      <th>ac_000</th>\n",
              "      <th>ad_000</th>\n",
              "      <th>ae_000</th>\n",
              "      <th>af_000</th>\n",
              "      <th>ag_000</th>\n",
              "      <th>ag_001</th>\n",
              "      <th>ag_002</th>\n",
              "      <th>...</th>\n",
              "      <th>ee_002</th>\n",
              "      <th>ee_003</th>\n",
              "      <th>ee_004</th>\n",
              "      <th>ee_005</th>\n",
              "      <th>ee_006</th>\n",
              "      <th>ee_007</th>\n",
              "      <th>ee_008</th>\n",
              "      <th>ee_009</th>\n",
              "      <th>ef_000</th>\n",
              "      <th>eg_000</th>\n",
              "    </tr>\n",
              "  </thead>\n",
              "  <tbody>\n",
              "    <tr>\n",
              "      <th>0</th>\n",
              "      <td>0</td>\n",
              "      <td>76698</td>\n",
              "      <td>NaN</td>\n",
              "      <td>2.130706e+09</td>\n",
              "      <td>280.0</td>\n",
              "      <td>0.0</td>\n",
              "      <td>0.0</td>\n",
              "      <td>0.0</td>\n",
              "      <td>0.0</td>\n",
              "      <td>0.0</td>\n",
              "      <td>...</td>\n",
              "      <td>1240520.0</td>\n",
              "      <td>493384.0</td>\n",
              "      <td>721044.0</td>\n",
              "      <td>469792.0</td>\n",
              "      <td>339156.0</td>\n",
              "      <td>157956.0</td>\n",
              "      <td>73224.0</td>\n",
              "      <td>0.0</td>\n",
              "      <td>0.0</td>\n",
              "      <td>0.0</td>\n",
              "    </tr>\n",
              "    <tr>\n",
              "      <th>1</th>\n",
              "      <td>0</td>\n",
              "      <td>33058</td>\n",
              "      <td>NaN</td>\n",
              "      <td>0.000000e+00</td>\n",
              "      <td>NaN</td>\n",
              "      <td>0.0</td>\n",
              "      <td>0.0</td>\n",
              "      <td>0.0</td>\n",
              "      <td>0.0</td>\n",
              "      <td>0.0</td>\n",
              "      <td>...</td>\n",
              "      <td>421400.0</td>\n",
              "      <td>178064.0</td>\n",
              "      <td>293306.0</td>\n",
              "      <td>245416.0</td>\n",
              "      <td>133654.0</td>\n",
              "      <td>81140.0</td>\n",
              "      <td>97576.0</td>\n",
              "      <td>1500.0</td>\n",
              "      <td>0.0</td>\n",
              "      <td>0.0</td>\n",
              "    </tr>\n",
              "    <tr>\n",
              "      <th>2</th>\n",
              "      <td>0</td>\n",
              "      <td>41040</td>\n",
              "      <td>NaN</td>\n",
              "      <td>2.280000e+02</td>\n",
              "      <td>100.0</td>\n",
              "      <td>0.0</td>\n",
              "      <td>0.0</td>\n",
              "      <td>0.0</td>\n",
              "      <td>0.0</td>\n",
              "      <td>0.0</td>\n",
              "      <td>...</td>\n",
              "      <td>277378.0</td>\n",
              "      <td>159812.0</td>\n",
              "      <td>423992.0</td>\n",
              "      <td>409564.0</td>\n",
              "      <td>320746.0</td>\n",
              "      <td>158022.0</td>\n",
              "      <td>95128.0</td>\n",
              "      <td>514.0</td>\n",
              "      <td>0.0</td>\n",
              "      <td>0.0</td>\n",
              "    </tr>\n",
              "    <tr>\n",
              "      <th>3</th>\n",
              "      <td>0</td>\n",
              "      <td>12</td>\n",
              "      <td>0.0</td>\n",
              "      <td>7.000000e+01</td>\n",
              "      <td>66.0</td>\n",
              "      <td>0.0</td>\n",
              "      <td>10.0</td>\n",
              "      <td>0.0</td>\n",
              "      <td>0.0</td>\n",
              "      <td>0.0</td>\n",
              "      <td>...</td>\n",
              "      <td>240.0</td>\n",
              "      <td>46.0</td>\n",
              "      <td>58.0</td>\n",
              "      <td>44.0</td>\n",
              "      <td>10.0</td>\n",
              "      <td>0.0</td>\n",
              "      <td>0.0</td>\n",
              "      <td>0.0</td>\n",
              "      <td>4.0</td>\n",
              "      <td>32.0</td>\n",
              "    </tr>\n",
              "    <tr>\n",
              "      <th>4</th>\n",
              "      <td>0</td>\n",
              "      <td>60874</td>\n",
              "      <td>NaN</td>\n",
              "      <td>1.368000e+03</td>\n",
              "      <td>458.0</td>\n",
              "      <td>0.0</td>\n",
              "      <td>0.0</td>\n",
              "      <td>0.0</td>\n",
              "      <td>0.0</td>\n",
              "      <td>0.0</td>\n",
              "      <td>...</td>\n",
              "      <td>622012.0</td>\n",
              "      <td>229790.0</td>\n",
              "      <td>405298.0</td>\n",
              "      <td>347188.0</td>\n",
              "      <td>286954.0</td>\n",
              "      <td>311560.0</td>\n",
              "      <td>433954.0</td>\n",
              "      <td>1218.0</td>\n",
              "      <td>0.0</td>\n",
              "      <td>0.0</td>\n",
              "    </tr>\n",
              "  </tbody>\n",
              "</table>\n",
              "<p>5 rows × 171 columns</p>\n",
              "</div>\n",
              "      <button class=\"colab-df-convert\" onclick=\"convertToInteractive('df-872da1d9-46b8-4c5e-b6d6-0319de3cccc6')\"\n",
              "              title=\"Convert this dataframe to an interactive table.\"\n",
              "              style=\"display:none;\">\n",
              "        \n",
              "  <svg xmlns=\"http://www.w3.org/2000/svg\" height=\"24px\"viewBox=\"0 0 24 24\"\n",
              "       width=\"24px\">\n",
              "    <path d=\"M0 0h24v24H0V0z\" fill=\"none\"/>\n",
              "    <path d=\"M18.56 5.44l.94 2.06.94-2.06 2.06-.94-2.06-.94-.94-2.06-.94 2.06-2.06.94zm-11 1L8.5 8.5l.94-2.06 2.06-.94-2.06-.94L8.5 2.5l-.94 2.06-2.06.94zm10 10l.94 2.06.94-2.06 2.06-.94-2.06-.94-.94-2.06-.94 2.06-2.06.94z\"/><path d=\"M17.41 7.96l-1.37-1.37c-.4-.4-.92-.59-1.43-.59-.52 0-1.04.2-1.43.59L10.3 9.45l-7.72 7.72c-.78.78-.78 2.05 0 2.83L4 21.41c.39.39.9.59 1.41.59.51 0 1.02-.2 1.41-.59l7.78-7.78 2.81-2.81c.8-.78.8-2.07 0-2.86zM5.41 20L4 18.59l7.72-7.72 1.47 1.35L5.41 20z\"/>\n",
              "  </svg>\n",
              "      </button>\n",
              "      \n",
              "  <style>\n",
              "    .colab-df-container {\n",
              "      display:flex;\n",
              "      flex-wrap:wrap;\n",
              "      gap: 12px;\n",
              "    }\n",
              "\n",
              "    .colab-df-convert {\n",
              "      background-color: #E8F0FE;\n",
              "      border: none;\n",
              "      border-radius: 50%;\n",
              "      cursor: pointer;\n",
              "      display: none;\n",
              "      fill: #1967D2;\n",
              "      height: 32px;\n",
              "      padding: 0 0 0 0;\n",
              "      width: 32px;\n",
              "    }\n",
              "\n",
              "    .colab-df-convert:hover {\n",
              "      background-color: #E2EBFA;\n",
              "      box-shadow: 0px 1px 2px rgba(60, 64, 67, 0.3), 0px 1px 3px 1px rgba(60, 64, 67, 0.15);\n",
              "      fill: #174EA6;\n",
              "    }\n",
              "\n",
              "    [theme=dark] .colab-df-convert {\n",
              "      background-color: #3B4455;\n",
              "      fill: #D2E3FC;\n",
              "    }\n",
              "\n",
              "    [theme=dark] .colab-df-convert:hover {\n",
              "      background-color: #434B5C;\n",
              "      box-shadow: 0px 1px 3px 1px rgba(0, 0, 0, 0.15);\n",
              "      filter: drop-shadow(0px 1px 2px rgba(0, 0, 0, 0.3));\n",
              "      fill: #FFFFFF;\n",
              "    }\n",
              "  </style>\n",
              "\n",
              "      <script>\n",
              "        const buttonEl =\n",
              "          document.querySelector('#df-872da1d9-46b8-4c5e-b6d6-0319de3cccc6 button.colab-df-convert');\n",
              "        buttonEl.style.display =\n",
              "          google.colab.kernel.accessAllowed ? 'block' : 'none';\n",
              "\n",
              "        async function convertToInteractive(key) {\n",
              "          const element = document.querySelector('#df-872da1d9-46b8-4c5e-b6d6-0319de3cccc6');\n",
              "          const dataTable =\n",
              "            await google.colab.kernel.invokeFunction('convertToInteractive',\n",
              "                                                     [key], {});\n",
              "          if (!dataTable) return;\n",
              "\n",
              "          const docLinkHtml = 'Like what you see? Visit the ' +\n",
              "            '<a target=\"_blank\" href=https://colab.research.google.com/notebooks/data_table.ipynb>data table notebook</a>'\n",
              "            + ' to learn more about interactive tables.';\n",
              "          element.innerHTML = '';\n",
              "          dataTable['output_type'] = 'display_data';\n",
              "          await google.colab.output.renderOutput(dataTable, element);\n",
              "          const docLink = document.createElement('div');\n",
              "          docLink.innerHTML = docLinkHtml;\n",
              "          element.appendChild(docLink);\n",
              "        }\n",
              "      </script>\n",
              "    </div>\n",
              "  </div>\n",
              "  "
            ]
          },
          "metadata": {},
          "execution_count": 11
        }
      ]
    },
    {
      "cell_type": "code",
      "source": [
        "# Checking missing values\n",
        "train.isnull().any().value_counts()"
      ],
      "metadata": {
        "colab": {
          "base_uri": "https://localhost:8080/"
        },
        "id": "z4InFoG_b644",
        "outputId": "b1b1e220-0d68-4739-880a-f7d638cdc8e0"
      },
      "execution_count": 12,
      "outputs": [
        {
          "output_type": "execute_result",
          "data": {
            "text/plain": [
              "True     169\n",
              "False      2\n",
              "dtype: int64"
            ]
          },
          "metadata": {},
          "execution_count": 12
        }
      ]
    },
    {
      "cell_type": "code",
      "source": [
        "# Checking missing values\n",
        "train.isnull().sum(axis = 0)"
      ],
      "metadata": {
        "colab": {
          "base_uri": "https://localhost:8080/"
        },
        "id": "yN8y0S1Dc3s5",
        "outputId": "e8525566-1993-4f67-a52f-68fbc3c6831a"
      },
      "execution_count": 13,
      "outputs": [
        {
          "output_type": "execute_result",
          "data": {
            "text/plain": [
              "class         0\n",
              "aa_000        0\n",
              "ab_000    46329\n",
              "ac_000     3335\n",
              "ad_000    14861\n",
              "          ...  \n",
              "ee_007      671\n",
              "ee_008      671\n",
              "ee_009      671\n",
              "ef_000     2724\n",
              "eg_000     2723\n",
              "Length: 171, dtype: int64"
            ]
          },
          "metadata": {},
          "execution_count": 13
        }
      ]
    },
    {
      "cell_type": "code",
      "source": [
        "sns.barplot(train['class'].unique(),train['class'].value_counts())\n",
        "plt.title('Class Label Distribution')\n",
        "plt.xlabel('Class Label')\n",
        "plt.ylabel('Count')\n",
        "plt.show()"
      ],
      "metadata": {
        "colab": {
          "base_uri": "https://localhost:8080/",
          "height": 295
        },
        "id": "6ZI7ApTZewbk",
        "outputId": "b3ba87f1-5e0a-4333-cd7e-af140860bb60"
      },
      "execution_count": 14,
      "outputs": [
        {
          "output_type": "display_data",
          "data": {
            "text/plain": [
              "<Figure size 432x288 with 1 Axes>"
            ],
            "image/png": "[encoded data removed]"
          },
          "metadata": {
            "needs_background": "light"
          }
        }
      ]
    },
    {
      "cell_type": "markdown",
      "source": [
        "**TEST DATA**"
      ],
      "metadata": {
        "id": "27Xiu2wYfI2R"
      }
    },
    {
      "cell_type": "code",
      "source": [
        "test = pd.read_csv(path_2, na_values=\"na\", header = 20)\n",
        "test.head()"
      ],
      "metadata": {
        "colab": {
          "base_uri": "https://localhost:8080/",
          "height": 235
        },
        "id": "loRXo3XLfL9S",
        "outputId": "5cb7c257-30cd-4e23-988e-9eadae1a62e9"
      },
      "execution_count": 15,
      "outputs": [
        {
          "output_type": "execute_result",
          "data": {
            "text/plain": [
              "  class  aa_000  ab_000  ac_000  ad_000  ae_000  af_000  ag_000  ag_001  \\\n",
              "0   neg      60     0.0    20.0    12.0     0.0     0.0     0.0     0.0   \n",
              "1   neg      82     0.0    68.0    40.0     0.0     0.0     0.0     0.0   \n",
              "2   neg   66002     2.0   212.0   112.0     0.0     0.0     0.0     0.0   \n",
              "3   neg   59816     NaN  1010.0   936.0     0.0     0.0     0.0     0.0   \n",
              "4   neg    1814     NaN   156.0   140.0     0.0     0.0     0.0     0.0   \n",
              "\n",
              "   ag_002  ...    ee_002    ee_003    ee_004    ee_005     ee_006    ee_007  \\\n",
              "0     0.0  ...    1098.0     138.0     412.0     654.0       78.0      88.0   \n",
              "1     0.0  ...    1068.0     276.0    1620.0     116.0       86.0     462.0   \n",
              "2     0.0  ...  495076.0  380368.0  440134.0  269556.0  1315022.0  153680.0   \n",
              "3     0.0  ...  540820.0  243270.0  483302.0  485332.0   431376.0  210074.0   \n",
              "4     0.0  ...    7646.0    4144.0   18466.0   49782.0     3176.0     482.0   \n",
              "\n",
              "     ee_008  ee_009  ef_000  eg_000  \n",
              "0       0.0     0.0     0.0     0.0  \n",
              "1       0.0     0.0     0.0     0.0  \n",
              "2     516.0     0.0     0.0     0.0  \n",
              "3  281662.0  3232.0     0.0     0.0  \n",
              "4      76.0     0.0     0.0     0.0  \n",
              "\n",
              "[5 rows x 171 columns]"
            ],
            "text/html": [
              "\n",
              "  <div id=\"df-74e9d25d-cc25-4fdf-ae50-305ce0683a38\">\n",
              "    <div class=\"colab-df-container\">\n",
              "      <div>\n",
              "<style scoped>\n",
              "    .dataframe tbody tr th:only-of-type {\n",
              "        vertical-align: middle;\n",
              "    }\n",
              "\n",
              "    .dataframe tbody tr th {\n",
              "        vertical-align: top;\n",
              "    }\n",
              "\n",
              "    .dataframe thead th {\n",
              "        text-align: right;\n",
              "    }\n",
              "</style>\n",
              "<table border=\"1\" class=\"dataframe\">\n",
              "  <thead>\n",
              "    <tr style=\"text-align: right;\">\n",
              "      <th></th>\n",
              "      <th>class</th>\n",
              "      <th>aa_000</th>\n",
              "      <th>ab_000</th>\n",
              "      <th>ac_000</th>\n",
              "      <th>ad_000</th>\n",
              "      <th>ae_000</th>\n",
              "      <th>af_000</th>\n",
              "      <th>ag_000</th>\n",
              "      <th>ag_001</th>\n",
              "      <th>ag_002</th>\n",
              "      <th>...</th>\n",
              "      <th>ee_002</th>\n",
              "      <th>ee_003</th>\n",
              "      <th>ee_004</th>\n",
              "      <th>ee_005</th>\n",
              "      <th>ee_006</th>\n",
              "      <th>ee_007</th>\n",
              "      <th>ee_008</th>\n",
              "      <th>ee_009</th>\n",
              "      <th>ef_000</th>\n",
              "      <th>eg_000</th>\n",
              "    </tr>\n",
              "  </thead>\n",
              "  <tbody>\n",
              "    <tr>\n",
              "      <th>0</th>\n",
              "      <td>neg</td>\n",
              "      <td>60</td>\n",
              "      <td>0.0</td>\n",
              "      <td>20.0</td>\n",
              "      <td>12.0</td>\n",
              "      <td>0.0</td>\n",
              "      <td>0.0</td>\n",
              "      <td>0.0</td>\n",
              "      <td>0.0</td>\n",
              "      <td>0.0</td>\n",
              "      <td>...</td>\n",
              "      <td>1098.0</td>\n",
              "      <td>138.0</td>\n",
              "      <td>412.0</td>\n",
              "      <td>654.0</td>\n",
              "      <td>78.0</td>\n",
              "      <td>88.0</td>\n",
              "      <td>0.0</td>\n",
              "      <td>0.0</td>\n",
              "      <td>0.0</td>\n",
              "      <td>0.0</td>\n",
              "    </tr>\n",
              "    <tr>\n",
              "      <th>1</th>\n",
              "      <td>neg</td>\n",
              "      <td>82</td>\n",
              "      <td>0.0</td>\n",
              "      <td>68.0</td>\n",
              "      <td>40.0</td>\n",
              "      <td>0.0</td>\n",
              "      <td>0.0</td>\n",
              "      <td>0.0</td>\n",
              "      <td>0.0</td>\n",
              "      <td>0.0</td>\n",
              "      <td>...</td>\n",
              "      <td>1068.0</td>\n",
              "      <td>276.0</td>\n",
              "      <td>1620.0</td>\n",
              "      <td>116.0</td>\n",
              "      <td>86.0</td>\n",
              "      <td>462.0</td>\n",
              "      <td>0.0</td>\n",
              "      <td>0.0</td>\n",
              "      <td>0.0</td>\n",
              "      <td>0.0</td>\n",
              "    </tr>\n",
              "    <tr>\n",
              "      <th>2</th>\n",
              "      <td>neg</td>\n",
              "      <td>66002</td>\n",
              "      <td>2.0</td>\n",
              "      <td>212.0</td>\n",
              "      <td>112.0</td>\n",
              "      <td>0.0</td>\n",
              "      <td>0.0</td>\n",
              "      <td>0.0</td>\n",
              "      <td>0.0</td>\n",
              "      <td>0.0</td>\n",
              "      <td>...</td>\n",
              "      <td>495076.0</td>\n",
              "      <td>380368.0</td>\n",
              "      <td>440134.0</td>\n",
              "      <td>269556.0</td>\n",
              "      <td>1315022.0</td>\n",
              "      <td>153680.0</td>\n",
              "      <td>516.0</td>\n",
              "      <td>0.0</td>\n",
              "      <td>0.0</td>\n",
              "      <td>0.0</td>\n",
              "    </tr>\n",
              "    <tr>\n",
              "      <th>3</th>\n",
              "      <td>neg</td>\n",
              "      <td>59816</td>\n",
              "      <td>NaN</td>\n",
              "      <td>1010.0</td>\n",
              "      <td>936.0</td>\n",
              "      <td>0.0</td>\n",
              "      <td>0.0</td>\n",
              "      <td>0.0</td>\n",
              "      <td>0.0</td>\n",
              "      <td>0.0</td>\n",
              "      <td>...</td>\n",
              "      <td>540820.0</td>\n",
              "      <td>243270.0</td>\n",
              "      <td>483302.0</td>\n",
              "      <td>485332.0</td>\n",
              "      <td>431376.0</td>\n",
              "      <td>210074.0</td>\n",
              "      <td>281662.0</td>\n",
              "      <td>3232.0</td>\n",
              "      <td>0.0</td>\n",
              "      <td>0.0</td>\n",
              "    </tr>\n",
              "    <tr>\n",
              "      <th>4</th>\n",
              "      <td>neg</td>\n",
              "      <td>1814</td>\n",
              "      <td>NaN</td>\n",
              "      <td>156.0</td>\n",
              "      <td>140.0</td>\n",
              "      <td>0.0</td>\n",
              "      <td>0.0</td>\n",
              "      <td>0.0</td>\n",
              "      <td>0.0</td>\n",
              "      <td>0.0</td>\n",
              "      <td>...</td>\n",
              "      <td>7646.0</td>\n",
              "      <td>4144.0</td>\n",
              "      <td>18466.0</td>\n",
              "      <td>49782.0</td>\n",
              "      <td>3176.0</td>\n",
              "      <td>482.0</td>\n",
              "      <td>76.0</td>\n",
              "      <td>0.0</td>\n",
              "      <td>0.0</td>\n",
              "      <td>0.0</td>\n",
              "    </tr>\n",
              "  </tbody>\n",
              "</table>\n",
              "<p>5 rows × 171 columns</p>\n",
              "</div>\n",
              "      <button class=\"colab-df-convert\" onclick=\"convertToInteractive('df-74e9d25d-cc25-4fdf-ae50-305ce0683a38')\"\n",
              "              title=\"Convert this dataframe to an interactive table.\"\n",
              "              style=\"display:none;\">\n",
              "        \n",
              "  <svg xmlns=\"http://www.w3.org/2000/svg\" height=\"24px\"viewBox=\"0 0 24 24\"\n",
              "       width=\"24px\">\n",
              "    <path d=\"M0 0h24v24H0V0z\" fill=\"none\"/>\n",
              "    <path d=\"M18.56 5.44l.94 2.06.94-2.06 2.06-.94-2.06-.94-.94-2.06-.94 2.06-2.06.94zm-11 1L8.5 8.5l.94-2.06 2.06-.94-2.06-.94L8.5 2.5l-.94 2.06-2.06.94zm10 10l.94 2.06.94-2.06 2.06-.94-2.06-.94-.94-2.06-.94 2.06-2.06.94z\"/><path d=\"M17.41 7.96l-1.37-1.37c-.4-.4-.92-.59-1.43-.59-.52 0-1.04.2-1.43.59L10.3 9.45l-7.72 7.72c-.78.78-.78 2.05 0 2.83L4 21.41c.39.39.9.59 1.41.59.51 0 1.02-.2 1.41-.59l7.78-7.78 2.81-2.81c.8-.78.8-2.07 0-2.86zM5.41 20L4 18.59l7.72-7.72 1.47 1.35L5.41 20z\"/>\n",
              "  </svg>\n",
              "      </button>\n",
              "      \n",
              "  <style>\n",
              "    .colab-df-container {\n",
              "      display:flex;\n",
              "      flex-wrap:wrap;\n",
              "      gap: 12px;\n",
              "    }\n",
              "\n",
              "    .colab-df-convert {\n",
              "      background-color: #E8F0FE;\n",
              "      border: none;\n",
              "      border-radius: 50%;\n",
              "      cursor: pointer;\n",
              "      display: none;\n",
              "      fill: #1967D2;\n",
              "      height: 32px;\n",
              "      padding: 0 0 0 0;\n",
              "      width: 32px;\n",
              "    }\n",
              "\n",
              "    .colab-df-convert:hover {\n",
              "      background-color: #E2EBFA;\n",
              "      box-shadow: 0px 1px 2px rgba(60, 64, 67, 0.3), 0px 1px 3px 1px rgba(60, 64, 67, 0.15);\n",
              "      fill: #174EA6;\n",
              "    }\n",
              "\n",
              "    [theme=dark] .colab-df-convert {\n",
              "      background-color: #3B4455;\n",
              "      fill: #D2E3FC;\n",
              "    }\n",
              "\n",
              "    [theme=dark] .colab-df-convert:hover {\n",
              "      background-color: #434B5C;\n",
              "      box-shadow: 0px 1px 3px 1px rgba(0, 0, 0, 0.15);\n",
              "      filter: drop-shadow(0px 1px 2px rgba(0, 0, 0, 0.3));\n",
              "      fill: #FFFFFF;\n",
              "    }\n",
              "  </style>\n",
              "\n",
              "      <script>\n",
              "        const buttonEl =\n",
              "          document.querySelector('#df-74e9d25d-cc25-4fdf-ae50-305ce0683a38 button.colab-df-convert');\n",
              "        buttonEl.style.display =\n",
              "          google.colab.kernel.accessAllowed ? 'block' : 'none';\n",
              "\n",
              "        async function convertToInteractive(key) {\n",
              "          const element = document.querySelector('#df-74e9d25d-cc25-4fdf-ae50-305ce0683a38');\n",
              "          const dataTable =\n",
              "            await google.colab.kernel.invokeFunction('convertToInteractive',\n",
              "                                                     [key], {});\n",
              "          if (!dataTable) return;\n",
              "\n",
              "          const docLinkHtml = 'Like what you see? Visit the ' +\n",
              "            '<a target=\"_blank\" href=https://colab.research.google.com/notebooks/data_table.ipynb>data table notebook</a>'\n",
              "            + ' to learn more about interactive tables.';\n",
              "          element.innerHTML = '';\n",
              "          dataTable['output_type'] = 'display_data';\n",
              "          await google.colab.output.renderOutput(dataTable, element);\n",
              "          const docLink = document.createElement('div');\n",
              "          docLink.innerHTML = docLinkHtml;\n",
              "          element.appendChild(docLink);\n",
              "        }\n",
              "      </script>\n",
              "    </div>\n",
              "  </div>\n",
              "  "
            ]
          },
          "metadata": {},
          "execution_count": 15
        }
      ]
    },
    {
      "cell_type": "code",
      "source": [
        "test.describe()"
      ],
      "metadata": {
        "colab": {
          "base_uri": "https://localhost:8080/",
          "height": 394
        },
        "id": "zc5CfTwgfWsq",
        "outputId": "d528eb2b-4f54-4669-ad6c-a77382f29991"
      },
      "execution_count": 16,
      "outputs": [
        {
          "output_type": "execute_result",
          "data": {
            "text/plain": [
              "             aa_000       ab_000        ac_000        ad_000        ae_000  \\\n",
              "count  1.600000e+04  3637.000000  1.507400e+04  12019.000000  15310.000000   \n",
              "mean   6.799698e+04     0.772065  3.580393e+08    439.498794      6.428347   \n",
              "std    5.035350e+05     2.589224  7.966968e+08   1551.328109    118.186469   \n",
              "min    0.000000e+00     0.000000  0.000000e+00      0.000000      0.000000   \n",
              "25%    9.280000e+02     0.000000  1.600000e+01     26.000000      0.000000   \n",
              "50%    3.098200e+04     0.000000  1.590000e+02    130.000000      0.000000   \n",
              "75%    4.947900e+04     0.000000  1.003500e+03    430.000000      0.000000   \n",
              "max    4.294967e+07    58.000000  2.130707e+09  87038.000000  11044.000000   \n",
              "\n",
              "             af_000         ag_000        ag_001        ag_002        ag_003  \\\n",
              "count  15310.000000   15811.000000  1.581100e+04  1.581100e+04  1.581100e+04   \n",
              "mean      10.195950     120.858516  2.064204e+03  1.379236e+04  1.126276e+05   \n",
              "std      167.260463    6454.660300  8.925778e+04  2.358405e+05  1.025843e+06   \n",
              "min        0.000000       0.000000  0.000000e+00  0.000000e+00  0.000000e+00   \n",
              "25%        0.000000       0.000000  0.000000e+00  0.000000e+00  0.000000e+00   \n",
              "50%        0.000000       0.000000  0.000000e+00  0.000000e+00  0.000000e+00   \n",
              "75%        0.000000       0.000000  0.000000e+00  0.000000e+00  0.000000e+00   \n",
              "max    14186.000000  736174.000000  1.047252e+07  1.914916e+07  7.305747e+07   \n",
              "\n",
              "       ...        ee_002        ee_003        ee_004        ee_005  \\\n",
              "count  ...  1.580800e+04  1.580800e+04  1.580800e+04  1.580800e+04   \n",
              "mean   ...  4.649135e+05  2.212010e+05  4.690886e+05  4.256696e+05   \n",
              "std    ...  1.255197e+06  5.828691e+05  1.267550e+06  1.259560e+06   \n",
              "min    ...  0.000000e+00  0.000000e+00  0.000000e+00  0.000000e+00   \n",
              "25%    ...  3.178000e+03  1.256000e+03  2.883500e+03  3.869500e+03   \n",
              "50%    ...  2.409860e+05  1.147800e+05  2.297080e+05  1.956510e+05   \n",
              "75%    ...  4.391320e+05  2.189510e+05  4.714860e+05  4.034105e+05   \n",
              "max    ...  5.382333e+07  2.207969e+07  4.859750e+07  5.604348e+07   \n",
              "\n",
              "             ee_006        ee_007        ee_008        ee_009        ef_000  \\\n",
              "count  1.580800e+04  1.580800e+04  1.580800e+04  1.580800e+04  15238.000000   \n",
              "mean   3.559239e+05  3.524014e+05  1.442759e+05  8.560355e+03      0.064969   \n",
              "std    1.199544e+06  1.628545e+06  5.368225e+05  5.329946e+04      3.374657   \n",
              "min    0.000000e+00  0.000000e+00  0.000000e+00  0.000000e+00      0.000000   \n",
              "25%    6.100000e+02  1.240000e+02  0.000000e+00  0.000000e+00      0.000000   \n",
              "50%    9.657000e+04  4.201300e+04  3.985000e+03  0.000000e+00      0.000000   \n",
              "75%    2.790355e+05  1.699100e+05  1.389310e+05  1.907000e+03      0.000000   \n",
              "max    4.215944e+07  4.747137e+07  1.718575e+07  4.570398e+06    340.000000   \n",
              "\n",
              "             eg_000  \n",
              "count  15238.000000  \n",
              "mean       0.242683  \n",
              "std       14.339059  \n",
              "min        0.000000  \n",
              "25%        0.000000  \n",
              "50%        0.000000  \n",
              "75%        0.000000  \n",
              "max     1720.000000  \n",
              "\n",
              "[8 rows x 170 columns]"
            ],
            "text/html": [
              "\n",
              "  <div id=\"df-14396f7a-931b-4796-b903-3259b47fc49f\">\n",
              "    <div class=\"colab-df-container\">\n",
              "      <div>\n",
              "<style scoped>\n",
              "    .dataframe tbody tr th:only-of-type {\n",
              "        vertical-align: middle;\n",
              "    }\n",
              "\n",
              "    .dataframe tbody tr th {\n",
              "        vertical-align: top;\n",
              "    }\n",
              "\n",
              "    .dataframe thead th {\n",
              "        text-align: right;\n",
              "    }\n",
              "</style>\n",
              "<table border=\"1\" class=\"dataframe\">\n",
              "  <thead>\n",
              "    <tr style=\"text-align: right;\">\n",
              "      <th></th>\n",
              "      <th>aa_000</th>\n",
              "      <th>ab_000</th>\n",
              "      <th>ac_000</th>\n",
              "      <th>ad_000</th>\n",
              "      <th>ae_000</th>\n",
              "      <th>af_000</th>\n",
              "      <th>ag_000</th>\n",
              "      <th>ag_001</th>\n",
              "      <th>ag_002</th>\n",
              "      <th>ag_003</th>\n",
              "      <th>...</th>\n",
              "      <th>ee_002</th>\n",
              "      <th>ee_003</th>\n",
              "      <th>ee_004</th>\n",
              "      <th>ee_005</th>\n",
              "      <th>ee_006</th>\n",
              "      <th>ee_007</th>\n",
              "      <th>ee_008</th>\n",
              "      <th>ee_009</th>\n",
              "      <th>ef_000</th>\n",
              "      <th>eg_000</th>\n",
              "    </tr>\n",
              "  </thead>\n",
              "  <tbody>\n",
              "    <tr>\n",
              "      <th>count</th>\n",
              "      <td>1.600000e+04</td>\n",
              "      <td>3637.000000</td>\n",
              "      <td>1.507400e+04</td>\n",
              "      <td>12019.000000</td>\n",
              "      <td>15310.000000</td>\n",
              "      <td>15310.000000</td>\n",
              "      <td>15811.000000</td>\n",
              "      <td>1.581100e+04</td>\n",
              "      <td>1.581100e+04</td>\n",
              "      <td>1.581100e+04</td>\n",
              "      <td>...</td>\n",
              "      <td>1.580800e+04</td>\n",
              "      <td>1.580800e+04</td>\n",
              "      <td>1.580800e+04</td>\n",
              "      <td>1.580800e+04</td>\n",
              "      <td>1.580800e+04</td>\n",
              "      <td>1.580800e+04</td>\n",
              "      <td>1.580800e+04</td>\n",
              "      <td>1.580800e+04</td>\n",
              "      <td>15238.000000</td>\n",
              "      <td>15238.000000</td>\n",
              "    </tr>\n",
              "    <tr>\n",
              "      <th>mean</th>\n",
              "      <td>6.799698e+04</td>\n",
              "      <td>0.772065</td>\n",
              "      <td>3.580393e+08</td>\n",
              "      <td>439.498794</td>\n",
              "      <td>6.428347</td>\n",
              "      <td>10.195950</td>\n",
              "      <td>120.858516</td>\n",
              "      <td>2.064204e+03</td>\n",
              "      <td>1.379236e+04</td>\n",
              "      <td>1.126276e+05</td>\n",
              "      <td>...</td>\n",
              "      <td>4.649135e+05</td>\n",
              "      <td>2.212010e+05</td>\n",
              "      <td>4.690886e+05</td>\n",
              "      <td>4.256696e+05</td>\n",
              "      <td>3.559239e+05</td>\n",
              "      <td>3.524014e+05</td>\n",
              "      <td>1.442759e+05</td>\n",
              "      <td>8.560355e+03</td>\n",
              "      <td>0.064969</td>\n",
              "      <td>0.242683</td>\n",
              "    </tr>\n",
              "    <tr>\n",
              "      <th>std</th>\n",
              "      <td>5.035350e+05</td>\n",
              "      <td>2.589224</td>\n",
              "      <td>7.966968e+08</td>\n",
              "      <td>1551.328109</td>\n",
              "      <td>118.186469</td>\n",
              "      <td>167.260463</td>\n",
              "      <td>6454.660300</td>\n",
              "      <td>8.925778e+04</td>\n",
              "      <td>2.358405e+05</td>\n",
              "      <td>1.025843e+06</td>\n",
              "      <td>...</td>\n",
              "      <td>1.255197e+06</td>\n",
              "      <td>5.828691e+05</td>\n",
              "      <td>1.267550e+06</td>\n",
              "      <td>1.259560e+06</td>\n",
              "      <td>1.199544e+06</td>\n",
              "      <td>1.628545e+06</td>\n",
              "      <td>5.368225e+05</td>\n",
              "      <td>5.329946e+04</td>\n",
              "      <td>3.374657</td>\n",
              "      <td>14.339059</td>\n",
              "    </tr>\n",
              "    <tr>\n",
              "      <th>min</th>\n",
              "      <td>0.000000e+00</td>\n",
              "      <td>0.000000</td>\n",
              "      <td>0.000000e+00</td>\n",
              "      <td>0.000000</td>\n",
              "      <td>0.000000</td>\n",
              "      <td>0.000000</td>\n",
              "      <td>0.000000</td>\n",
              "      <td>0.000000e+00</td>\n",
              "      <td>0.000000e+00</td>\n",
              "      <td>0.000000e+00</td>\n",
              "      <td>...</td>\n",
              "      <td>0.000000e+00</td>\n",
              "      <td>0.000000e+00</td>\n",
              "      <td>0.000000e+00</td>\n",
              "      <td>0.000000e+00</td>\n",
              "      <td>0.000000e+00</td>\n",
              "      <td>0.000000e+00</td>\n",
              "      <td>0.000000e+00</td>\n",
              "      <td>0.000000e+00</td>\n",
              "      <td>0.000000</td>\n",
              "      <td>0.000000</td>\n",
              "    </tr>\n",
              "    <tr>\n",
              "      <th>25%</th>\n",
              "      <td>9.280000e+02</td>\n",
              "      <td>0.000000</td>\n",
              "      <td>1.600000e+01</td>\n",
              "      <td>26.000000</td>\n",
              "      <td>0.000000</td>\n",
              "      <td>0.000000</td>\n",
              "      <td>0.000000</td>\n",
              "      <td>0.000000e+00</td>\n",
              "      <td>0.000000e+00</td>\n",
              "      <td>0.000000e+00</td>\n",
              "      <td>...</td>\n",
              "      <td>3.178000e+03</td>\n",
              "      <td>1.256000e+03</td>\n",
              "      <td>2.883500e+03</td>\n",
              "      <td>3.869500e+03</td>\n",
              "      <td>6.100000e+02</td>\n",
              "      <td>1.240000e+02</td>\n",
              "      <td>0.000000e+00</td>\n",
              "      <td>0.000000e+00</td>\n",
              "      <td>0.000000</td>\n",
              "      <td>0.000000</td>\n",
              "    </tr>\n",
              "    <tr>\n",
              "      <th>50%</th>\n",
              "      <td>3.098200e+04</td>\n",
              "      <td>0.000000</td>\n",
              "      <td>1.590000e+02</td>\n",
              "      <td>130.000000</td>\n",
              "      <td>0.000000</td>\n",
              "      <td>0.000000</td>\n",
              "      <td>0.000000</td>\n",
              "      <td>0.000000e+00</td>\n",
              "      <td>0.000000e+00</td>\n",
              "      <td>0.000000e+00</td>\n",
              "      <td>...</td>\n",
              "      <td>2.409860e+05</td>\n",
              "      <td>1.147800e+05</td>\n",
              "      <td>2.297080e+05</td>\n",
              "      <td>1.956510e+05</td>\n",
              "      <td>9.657000e+04</td>\n",
              "      <td>4.201300e+04</td>\n",
              "      <td>3.985000e+03</td>\n",
              "      <td>0.000000e+00</td>\n",
              "      <td>0.000000</td>\n",
              "      <td>0.000000</td>\n",
              "    </tr>\n",
              "    <tr>\n",
              "      <th>75%</th>\n",
              "      <td>4.947900e+04</td>\n",
              "      <td>0.000000</td>\n",
              "      <td>1.003500e+03</td>\n",
              "      <td>430.000000</td>\n",
              "      <td>0.000000</td>\n",
              "      <td>0.000000</td>\n",
              "      <td>0.000000</td>\n",
              "      <td>0.000000e+00</td>\n",
              "      <td>0.000000e+00</td>\n",
              "      <td>0.000000e+00</td>\n",
              "      <td>...</td>\n",
              "      <td>4.391320e+05</td>\n",
              "      <td>2.189510e+05</td>\n",
              "      <td>4.714860e+05</td>\n",
              "      <td>4.034105e+05</td>\n",
              "      <td>2.790355e+05</td>\n",
              "      <td>1.699100e+05</td>\n",
              "      <td>1.389310e+05</td>\n",
              "      <td>1.907000e+03</td>\n",
              "      <td>0.000000</td>\n",
              "      <td>0.000000</td>\n",
              "    </tr>\n",
              "    <tr>\n",
              "      <th>max</th>\n",
              "      <td>4.294967e+07</td>\n",
              "      <td>58.000000</td>\n",
              "      <td>2.130707e+09</td>\n",
              "      <td>87038.000000</td>\n",
              "      <td>11044.000000</td>\n",
              "      <td>14186.000000</td>\n",
              "      <td>736174.000000</td>\n",
              "      <td>1.047252e+07</td>\n",
              "      <td>1.914916e+07</td>\n",
              "      <td>7.305747e+07</td>\n",
              "      <td>...</td>\n",
              "      <td>5.382333e+07</td>\n",
              "      <td>2.207969e+07</td>\n",
              "      <td>4.859750e+07</td>\n",
              "      <td>5.604348e+07</td>\n",
              "      <td>4.215944e+07</td>\n",
              "      <td>4.747137e+07</td>\n",
              "      <td>1.718575e+07</td>\n",
              "      <td>4.570398e+06</td>\n",
              "      <td>340.000000</td>\n",
              "      <td>1720.000000</td>\n",
              "    </tr>\n",
              "  </tbody>\n",
              "</table>\n",
              "<p>8 rows × 170 columns</p>\n",
              "</div>\n",
              "      <button class=\"colab-df-convert\" onclick=\"convertToInteractive('df-14396f7a-931b-4796-b903-3259b47fc49f')\"\n",
              "              title=\"Convert this dataframe to an interactive table.\"\n",
              "              style=\"display:none;\">\n",
              "        \n",
              "  <svg xmlns=\"http://www.w3.org/2000/svg\" height=\"24px\"viewBox=\"0 0 24 24\"\n",
              "       width=\"24px\">\n",
              "    <path d=\"M0 0h24v24H0V0z\" fill=\"none\"/>\n",
              "    <path d=\"M18.56 5.44l.94 2.06.94-2.06 2.06-.94-2.06-.94-.94-2.06-.94 2.06-2.06.94zm-11 1L8.5 8.5l.94-2.06 2.06-.94-2.06-.94L8.5 2.5l-.94 2.06-2.06.94zm10 10l.94 2.06.94-2.06 2.06-.94-2.06-.94-.94-2.06-.94 2.06-2.06.94z\"/><path d=\"M17.41 7.96l-1.37-1.37c-.4-.4-.92-.59-1.43-.59-.52 0-1.04.2-1.43.59L10.3 9.45l-7.72 7.72c-.78.78-.78 2.05 0 2.83L4 21.41c.39.39.9.59 1.41.59.51 0 1.02-.2 1.41-.59l7.78-7.78 2.81-2.81c.8-.78.8-2.07 0-2.86zM5.41 20L4 18.59l7.72-7.72 1.47 1.35L5.41 20z\"/>\n",
              "  </svg>\n",
              "      </button>\n",
              "      \n",
              "  <style>\n",
              "    .colab-df-container {\n",
              "      display:flex;\n",
              "      flex-wrap:wrap;\n",
              "      gap: 12px;\n",
              "    }\n",
              "\n",
              "    .colab-df-convert {\n",
              "      background-color: #E8F0FE;\n",
              "      border: none;\n",
              "      border-radius: 50%;\n",
              "      cursor: pointer;\n",
              "      display: none;\n",
              "      fill: #1967D2;\n",
              "      height: 32px;\n",
              "      padding: 0 0 0 0;\n",
              "      width: 32px;\n",
              "    }\n",
              "\n",
              "    .colab-df-convert:hover {\n",
              "      background-color: #E2EBFA;\n",
              "      box-shadow: 0px 1px 2px rgba(60, 64, 67, 0.3), 0px 1px 3px 1px rgba(60, 64, 67, 0.15);\n",
              "      fill: #174EA6;\n",
              "    }\n",
              "\n",
              "    [theme=dark] .colab-df-convert {\n",
              "      background-color: #3B4455;\n",
              "      fill: #D2E3FC;\n",
              "    }\n",
              "\n",
              "    [theme=dark] .colab-df-convert:hover {\n",
              "      background-color: #434B5C;\n",
              "      box-shadow: 0px 1px 3px 1px rgba(0, 0, 0, 0.15);\n",
              "      filter: drop-shadow(0px 1px 2px rgba(0, 0, 0, 0.3));\n",
              "      fill: #FFFFFF;\n",
              "    }\n",
              "  </style>\n",
              "\n",
              "      <script>\n",
              "        const buttonEl =\n",
              "          document.querySelector('#df-14396f7a-931b-4796-b903-3259b47fc49f button.colab-df-convert');\n",
              "        buttonEl.style.display =\n",
              "          google.colab.kernel.accessAllowed ? 'block' : 'none';\n",
              "\n",
              "        async function convertToInteractive(key) {\n",
              "          const element = document.querySelector('#df-14396f7a-931b-4796-b903-3259b47fc49f');\n",
              "          const dataTable =\n",
              "            await google.colab.kernel.invokeFunction('convertToInteractive',\n",
              "                                                     [key], {});\n",
              "          if (!dataTable) return;\n",
              "\n",
              "          const docLinkHtml = 'Like what you see? Visit the ' +\n",
              "            '<a target=\"_blank\" href=https://colab.research.google.com/notebooks/data_table.ipynb>data table notebook</a>'\n",
              "            + ' to learn more about interactive tables.';\n",
              "          element.innerHTML = '';\n",
              "          dataTable['output_type'] = 'display_data';\n",
              "          await google.colab.output.renderOutput(dataTable, element);\n",
              "          const docLink = document.createElement('div');\n",
              "          docLink.innerHTML = docLinkHtml;\n",
              "          element.appendChild(docLink);\n",
              "        }\n",
              "      </script>\n",
              "    </div>\n",
              "  </div>\n",
              "  "
            ]
          },
          "metadata": {},
          "execution_count": 16
        }
      ]
    },
    {
      "cell_type": "code",
      "source": [
        "test['class'].value_counts()"
      ],
      "metadata": {
        "colab": {
          "base_uri": "https://localhost:8080/"
        },
        "id": "_nYrAePffZgG",
        "outputId": "08168120-b19a-4b6d-8488-d17276d5b0c3"
      },
      "execution_count": 17,
      "outputs": [
        {
          "output_type": "execute_result",
          "data": {
            "text/plain": [
              "neg    15625\n",
              "pos      375\n",
              "Name: class, dtype: int64"
            ]
          },
          "metadata": {},
          "execution_count": 17
        }
      ]
    },
    {
      "cell_type": "markdown",
      "source": [
        "This also is an imbalamced dataset"
      ],
      "metadata": {
        "id": "7hzHsfVqgJdo"
      }
    },
    {
      "cell_type": "code",
      "source": [
        "# Checking missing values\n",
        "test.isnull().any().value_counts()"
      ],
      "metadata": {
        "colab": {
          "base_uri": "https://localhost:8080/"
        },
        "id": "zQ6n-8Vyff6S",
        "outputId": "bc11cfa3-27e7-4b59-8ac1-6abd43a277b3"
      },
      "execution_count": 18,
      "outputs": [
        {
          "output_type": "execute_result",
          "data": {
            "text/plain": [
              "True     169\n",
              "False      2\n",
              "dtype: int64"
            ]
          },
          "metadata": {},
          "execution_count": 18
        }
      ]
    },
    {
      "cell_type": "code",
      "source": [
        "# Checking missing values\n",
        "test.isnull().sum(axis = 0)"
      ],
      "metadata": {
        "colab": {
          "base_uri": "https://localhost:8080/"
        },
        "id": "PhGi_byggTUp",
        "outputId": "47893d0c-3f0c-48b7-8447-4c3af68e4183"
      },
      "execution_count": 19,
      "outputs": [
        {
          "output_type": "execute_result",
          "data": {
            "text/plain": [
              "class         0\n",
              "aa_000        0\n",
              "ab_000    12363\n",
              "ac_000      926\n",
              "ad_000     3981\n",
              "          ...  \n",
              "ee_007      192\n",
              "ee_008      192\n",
              "ee_009      192\n",
              "ef_000      762\n",
              "eg_000      762\n",
              "Length: 171, dtype: int64"
            ]
          },
          "metadata": {},
          "execution_count": 19
        }
      ]
    },
    {
      "cell_type": "code",
      "source": [
        "sns.barplot(test['class'].unique(),test['class'].value_counts())\n",
        "plt.title('Class Label Distribution')\n",
        "plt.xlabel('Class Label')\n",
        "plt.ylabel('Count')\n",
        "plt.show()"
      ],
      "metadata": {
        "colab": {
          "base_uri": "https://localhost:8080/",
          "height": 295
        },
        "id": "sx9HnLTzgU9f",
        "outputId": "4619c6d2-bd7a-4cc6-8185-29b8d311ee5e"
      },
      "execution_count": 20,
      "outputs": [
        {
          "output_type": "display_data",
          "data": {
            "text/plain": [
              "<Figure size 432x288 with 1 Axes>"
            ],
            "image/png": "[encoded data removed]"
          },
          "metadata": {
            "needs_background": "light"
          }
        }
      ]
    },
    {
      "cell_type": "code",
      "source": [
        "print(test['class'].unique())\n",
        "test['class'] = get_correct_label(test['class'])\n",
        "print(test['class'].unique())"
      ],
      "metadata": {
        "colab": {
          "base_uri": "https://localhost:8080/"
        },
        "id": "GdwPYWsugcdZ",
        "outputId": "f34cdd64-56f8-4048-9054-1bb8a91e5641"
      },
      "execution_count": 21,
      "outputs": [
        {
          "output_type": "stream",
          "name": "stdout",
          "text": [
            "['neg' 'pos']\n",
            "[0 1]\n"
          ]
        }
      ]
    },
    {
      "cell_type": "code",
      "source": [
        "print(train['class'].value_counts())\n",
        "print(test['class'].value_counts())"
      ],
      "metadata": {
        "colab": {
          "base_uri": "https://localhost:8080/"
        },
        "id": "C5k13lhggtnV",
        "outputId": "64c7ea52-263c-4d32-d2ae-d4dbdfcb65ae"
      },
      "execution_count": 22,
      "outputs": [
        {
          "output_type": "stream",
          "name": "stdout",
          "text": [
            "0    59000\n",
            "1     1000\n",
            "Name: class, dtype: int64\n",
            "0    15625\n",
            "1      375\n",
            "Name: class, dtype: int64\n"
          ]
        }
      ]
    },
    {
      "cell_type": "markdown",
      "source": [
        "## Null Data"
      ],
      "metadata": {
        "id": "LR0i31Rp1_7p"
      }
    },
    {
      "cell_type": "code",
      "source": [
        "train.isna().sum()"
      ],
      "metadata": {
        "colab": {
          "base_uri": "https://localhost:8080/"
        },
        "id": "ZvtgwC-42ByW",
        "outputId": "44ab54e3-68ea-4e84-b8e8-6fb64b2798a5"
      },
      "execution_count": 23,
      "outputs": [
        {
          "output_type": "execute_result",
          "data": {
            "text/plain": [
              "class         0\n",
              "aa_000        0\n",
              "ab_000    46329\n",
              "ac_000     3335\n",
              "ad_000    14861\n",
              "          ...  \n",
              "ee_007      671\n",
              "ee_008      671\n",
              "ee_009      671\n",
              "ef_000     2724\n",
              "eg_000     2723\n",
              "Length: 171, dtype: int64"
            ]
          },
          "metadata": {},
          "execution_count": 23
        }
      ]
    },
    {
      "cell_type": "code",
      "source": [
        "train_num = train.drop('class', axis =1)"
      ],
      "metadata": {
        "id": "-3X-fJURg0mj"
      },
      "execution_count": 24,
      "outputs": []
    },
    {
      "cell_type": "code",
      "source": [
        "train_num.head()"
      ],
      "metadata": {
        "colab": {
          "base_uri": "https://localhost:8080/",
          "height": 279
        },
        "id": "37q6n5Yu4SdB",
        "outputId": "328c04de-a921-4821-cec4-09a7aa57c8f1"
      },
      "execution_count": 25,
      "outputs": [
        {
          "output_type": "execute_result",
          "data": {
            "text/plain": [
              "   aa_000  ab_000        ac_000  ad_000  ae_000  af_000  ag_000  ag_001  \\\n",
              "0   76698     NaN  2.130706e+09   280.0     0.0     0.0     0.0     0.0   \n",
              "1   33058     NaN  0.000000e+00     NaN     0.0     0.0     0.0     0.0   \n",
              "2   41040     NaN  2.280000e+02   100.0     0.0     0.0     0.0     0.0   \n",
              "3      12     0.0  7.000000e+01    66.0     0.0    10.0     0.0     0.0   \n",
              "4   60874     NaN  1.368000e+03   458.0     0.0     0.0     0.0     0.0   \n",
              "\n",
              "   ag_002  ag_003  ...     ee_002    ee_003    ee_004    ee_005    ee_006  \\\n",
              "0     0.0     0.0  ...  1240520.0  493384.0  721044.0  469792.0  339156.0   \n",
              "1     0.0     0.0  ...   421400.0  178064.0  293306.0  245416.0  133654.0   \n",
              "2     0.0     0.0  ...   277378.0  159812.0  423992.0  409564.0  320746.0   \n",
              "3     0.0   318.0  ...      240.0      46.0      58.0      44.0      10.0   \n",
              "4     0.0     0.0  ...   622012.0  229790.0  405298.0  347188.0  286954.0   \n",
              "\n",
              "     ee_007    ee_008  ee_009  ef_000  eg_000  \n",
              "0  157956.0   73224.0     0.0     0.0     0.0  \n",
              "1   81140.0   97576.0  1500.0     0.0     0.0  \n",
              "2  158022.0   95128.0   514.0     0.0     0.0  \n",
              "3       0.0       0.0     0.0     4.0    32.0  \n",
              "4  311560.0  433954.0  1218.0     0.0     0.0  \n",
              "\n",
              "[5 rows x 170 columns]"
            ],
            "text/html": [
              "\n",
              "  <div id=\"df-386360d5-647b-4c34-93b3-34f0c7e0daa5\">\n",
              "    <div class=\"colab-df-container\">\n",
              "      <div>\n",
              "<style scoped>\n",
              "    .dataframe tbody tr th:only-of-type {\n",
              "        vertical-align: middle;\n",
              "    }\n",
              "\n",
              "    .dataframe tbody tr th {\n",
              "        vertical-align: top;\n",
              "    }\n",
              "\n",
              "    .dataframe thead th {\n",
              "        text-align: right;\n",
              "    }\n",
              "</style>\n",
              "<table border=\"1\" class=\"dataframe\">\n",
              "  <thead>\n",
              "    <tr style=\"text-align: right;\">\n",
              "      <th></th>\n",
              "      <th>aa_000</th>\n",
              "      <th>ab_000</th>\n",
              "      <th>ac_000</th>\n",
              "      <th>ad_000</th>\n",
              "      <th>ae_000</th>\n",
              "      <th>af_000</th>\n",
              "      <th>ag_000</th>\n",
              "      <th>ag_001</th>\n",
              "      <th>ag_002</th>\n",
              "      <th>ag_003</th>\n",
              "      <th>...</th>\n",
              "      <th>ee_002</th>\n",
              "      <th>ee_003</th>\n",
              "      <th>ee_004</th>\n",
              "      <th>ee_005</th>\n",
              "      <th>ee_006</th>\n",
              "      <th>ee_007</th>\n",
              "      <th>ee_008</th>\n",
              "      <th>ee_009</th>\n",
              "      <th>ef_000</th>\n",
              "      <th>eg_000</th>\n",
              "    </tr>\n",
              "  </thead>\n",
              "  <tbody>\n",
              "    <tr>\n",
              "      <th>0</th>\n",
              "      <td>76698</td>\n",
              "      <td>NaN</td>\n",
              "      <td>2.130706e+09</td>\n",
              "      <td>280.0</td>\n",
              "      <td>0.0</td>\n",
              "      <td>0.0</td>\n",
              "      <td>0.0</td>\n",
              "      <td>0.0</td>\n",
              "      <td>0.0</td>\n",
              "      <td>0.0</td>\n",
              "      <td>...</td>\n",
              "      <td>1240520.0</td>\n",
              "      <td>493384.0</td>\n",
              "      <td>721044.0</td>\n",
              "      <td>469792.0</td>\n",
              "      <td>339156.0</td>\n",
              "      <td>157956.0</td>\n",
              "      <td>73224.0</td>\n",
              "      <td>0.0</td>\n",
              "      <td>0.0</td>\n",
              "      <td>0.0</td>\n",
              "    </tr>\n",
              "    <tr>\n",
              "      <th>1</th>\n",
              "      <td>33058</td>\n",
              "      <td>NaN</td>\n",
              "      <td>0.000000e+00</td>\n",
              "      <td>NaN</td>\n",
              "      <td>0.0</td>\n",
              "      <td>0.0</td>\n",
              "      <td>0.0</td>\n",
              "      <td>0.0</td>\n",
              "      <td>0.0</td>\n",
              "      <td>0.0</td>\n",
              "      <td>...</td>\n",
              "      <td>421400.0</td>\n",
              "      <td>178064.0</td>\n",
              "      <td>293306.0</td>\n",
              "      <td>245416.0</td>\n",
              "      <td>133654.0</td>\n",
              "      <td>81140.0</td>\n",
              "      <td>97576.0</td>\n",
              "      <td>1500.0</td>\n",
              "      <td>0.0</td>\n",
              "      <td>0.0</td>\n",
              "    </tr>\n",
              "    <tr>\n",
              "      <th>2</th>\n",
              "      <td>41040</td>\n",
              "      <td>NaN</td>\n",
              "      <td>2.280000e+02</td>\n",
              "      <td>100.0</td>\n",
              "      <td>0.0</td>\n",
              "      <td>0.0</td>\n",
              "      <td>0.0</td>\n",
              "      <td>0.0</td>\n",
              "      <td>0.0</td>\n",
              "      <td>0.0</td>\n",
              "      <td>...</td>\n",
              "      <td>277378.0</td>\n",
              "      <td>159812.0</td>\n",
              "      <td>423992.0</td>\n",
              "      <td>409564.0</td>\n",
              "      <td>320746.0</td>\n",
              "      <td>158022.0</td>\n",
              "      <td>95128.0</td>\n",
              "      <td>514.0</td>\n",
              "      <td>0.0</td>\n",
              "      <td>0.0</td>\n",
              "    </tr>\n",
              "    <tr>\n",
              "      <th>3</th>\n",
              "      <td>12</td>\n",
              "      <td>0.0</td>\n",
              "      <td>7.000000e+01</td>\n",
              "      <td>66.0</td>\n",
              "      <td>0.0</td>\n",
              "      <td>10.0</td>\n",
              "      <td>0.0</td>\n",
              "      <td>0.0</td>\n",
              "      <td>0.0</td>\n",
              "      <td>318.0</td>\n",
              "      <td>...</td>\n",
              "      <td>240.0</td>\n",
              "      <td>46.0</td>\n",
              "      <td>58.0</td>\n",
              "      <td>44.0</td>\n",
              "      <td>10.0</td>\n",
              "      <td>0.0</td>\n",
              "      <td>0.0</td>\n",
              "      <td>0.0</td>\n",
              "      <td>4.0</td>\n",
              "      <td>32.0</td>\n",
              "    </tr>\n",
              "    <tr>\n",
              "      <th>4</th>\n",
              "      <td>60874</td>\n",
              "      <td>NaN</td>\n",
              "      <td>1.368000e+03</td>\n",
              "      <td>458.0</td>\n",
              "      <td>0.0</td>\n",
              "      <td>0.0</td>\n",
              "      <td>0.0</td>\n",
              "      <td>0.0</td>\n",
              "      <td>0.0</td>\n",
              "      <td>0.0</td>\n",
              "      <td>...</td>\n",
              "      <td>622012.0</td>\n",
              "      <td>229790.0</td>\n",
              "      <td>405298.0</td>\n",
              "      <td>347188.0</td>\n",
              "      <td>286954.0</td>\n",
              "      <td>311560.0</td>\n",
              "      <td>433954.0</td>\n",
              "      <td>1218.0</td>\n",
              "      <td>0.0</td>\n",
              "      <td>0.0</td>\n",
              "    </tr>\n",
              "  </tbody>\n",
              "</table>\n",
              "<p>5 rows × 170 columns</p>\n",
              "</div>\n",
              "      <button class=\"colab-df-convert\" onclick=\"convertToInteractive('df-386360d5-647b-4c34-93b3-34f0c7e0daa5')\"\n",
              "              title=\"Convert this dataframe to an interactive table.\"\n",
              "              style=\"display:none;\">\n",
              "        \n",
              "  <svg xmlns=\"http://www.w3.org/2000/svg\" height=\"24px\"viewBox=\"0 0 24 24\"\n",
              "       width=\"24px\">\n",
              "    <path d=\"M0 0h24v24H0V0z\" fill=\"none\"/>\n",
              "    <path d=\"M18.56 5.44l.94 2.06.94-2.06 2.06-.94-2.06-.94-.94-2.06-.94 2.06-2.06.94zm-11 1L8.5 8.5l.94-2.06 2.06-.94-2.06-.94L8.5 2.5l-.94 2.06-2.06.94zm10 10l.94 2.06.94-2.06 2.06-.94-2.06-.94-.94-2.06-.94 2.06-2.06.94z\"/><path d=\"M17.41 7.96l-1.37-1.37c-.4-.4-.92-.59-1.43-.59-.52 0-1.04.2-1.43.59L10.3 9.45l-7.72 7.72c-.78.78-.78 2.05 0 2.83L4 21.41c.39.39.9.59 1.41.59.51 0 1.02-.2 1.41-.59l7.78-7.78 2.81-2.81c.8-.78.8-2.07 0-2.86zM5.41 20L4 18.59l7.72-7.72 1.47 1.35L5.41 20z\"/>\n",
              "  </svg>\n",
              "      </button>\n",
              "      \n",
              "  <style>\n",
              "    .colab-df-container {\n",
              "      display:flex;\n",
              "      flex-wrap:wrap;\n",
              "      gap: 12px;\n",
              "    }\n",
              "\n",
              "    .colab-df-convert {\n",
              "      background-color: #E8F0FE;\n",
              "      border: none;\n",
              "      border-radius: 50%;\n",
              "      cursor: pointer;\n",
              "      display: none;\n",
              "      fill: #1967D2;\n",
              "      height: 32px;\n",
              "      padding: 0 0 0 0;\n",
              "      width: 32px;\n",
              "    }\n",
              "\n",
              "    .colab-df-convert:hover {\n",
              "      background-color: #E2EBFA;\n",
              "      box-shadow: 0px 1px 2px rgba(60, 64, 67, 0.3), 0px 1px 3px 1px rgba(60, 64, 67, 0.15);\n",
              "      fill: #174EA6;\n",
              "    }\n",
              "\n",
              "    [theme=dark] .colab-df-convert {\n",
              "      background-color: #3B4455;\n",
              "      fill: #D2E3FC;\n",
              "    }\n",
              "\n",
              "    [theme=dark] .colab-df-convert:hover {\n",
              "      background-color: #434B5C;\n",
              "      box-shadow: 0px 1px 3px 1px rgba(0, 0, 0, 0.15);\n",
              "      filter: drop-shadow(0px 1px 2px rgba(0, 0, 0, 0.3));\n",
              "      fill: #FFFFFF;\n",
              "    }\n",
              "  </style>\n",
              "\n",
              "      <script>\n",
              "        const buttonEl =\n",
              "          document.querySelector('#df-386360d5-647b-4c34-93b3-34f0c7e0daa5 button.colab-df-convert');\n",
              "        buttonEl.style.display =\n",
              "          google.colab.kernel.accessAllowed ? 'block' : 'none';\n",
              "\n",
              "        async function convertToInteractive(key) {\n",
              "          const element = document.querySelector('#df-386360d5-647b-4c34-93b3-34f0c7e0daa5');\n",
              "          const dataTable =\n",
              "            await google.colab.kernel.invokeFunction('convertToInteractive',\n",
              "                                                     [key], {});\n",
              "          if (!dataTable) return;\n",
              "\n",
              "          const docLinkHtml = 'Like what you see? Visit the ' +\n",
              "            '<a target=\"_blank\" href=https://colab.research.google.com/notebooks/data_table.ipynb>data table notebook</a>'\n",
              "            + ' to learn more about interactive tables.';\n",
              "          element.innerHTML = '';\n",
              "          dataTable['output_type'] = 'display_data';\n",
              "          await google.colab.output.renderOutput(dataTable, element);\n",
              "          const docLink = document.createElement('div');\n",
              "          docLink.innerHTML = docLinkHtml;\n",
              "          element.appendChild(docLink);\n",
              "        }\n",
              "      </script>\n",
              "    </div>\n",
              "  </div>\n",
              "  "
            ]
          },
          "metadata": {},
          "execution_count": 25
        }
      ]
    },
    {
      "cell_type": "code",
      "source": [
        "for col in train_num:\n",
        "        # Complete missing col with mean\n",
        "        train_num[col].fillna(train_num[col].mean(), inplace = True)"
      ],
      "metadata": {
        "id": "vrt6-Jea4YOj"
      },
      "execution_count": 26,
      "outputs": []
    },
    {
      "cell_type": "code",
      "source": [
        "train_num.head()"
      ],
      "metadata": {
        "colab": {
          "base_uri": "https://localhost:8080/",
          "height": 299
        },
        "id": "gWVDGmdV5RtN",
        "outputId": "dc5e5ce8-9e57-45de-8d92-d4e368ff95ea"
      },
      "execution_count": 27,
      "outputs": [
        {
          "output_type": "execute_result",
          "data": {
            "text/plain": [
              "   aa_000    ab_000        ac_000         ad_000  ae_000  af_000  ag_000  \\\n",
              "0   76698  0.713189  2.130706e+09     280.000000     0.0     0.0     0.0   \n",
              "1   33058  0.713189  0.000000e+00  190620.639314     0.0     0.0     0.0   \n",
              "2   41040  0.713189  2.280000e+02     100.000000     0.0     0.0     0.0   \n",
              "3      12  0.000000  7.000000e+01      66.000000     0.0    10.0     0.0   \n",
              "4   60874  0.713189  1.368000e+03     458.000000     0.0     0.0     0.0   \n",
              "\n",
              "   ag_001  ag_002  ag_003  ...     ee_002    ee_003    ee_004    ee_005  \\\n",
              "0     0.0     0.0     0.0  ...  1240520.0  493384.0  721044.0  469792.0   \n",
              "1     0.0     0.0     0.0  ...   421400.0  178064.0  293306.0  245416.0   \n",
              "2     0.0     0.0     0.0  ...   277378.0  159812.0  423992.0  409564.0   \n",
              "3     0.0     0.0   318.0  ...      240.0      46.0      58.0      44.0   \n",
              "4     0.0     0.0     0.0  ...   622012.0  229790.0  405298.0  347188.0   \n",
              "\n",
              "     ee_006    ee_007    ee_008  ee_009  ef_000  eg_000  \n",
              "0  339156.0  157956.0   73224.0     0.0     0.0     0.0  \n",
              "1  133654.0   81140.0   97576.0  1500.0     0.0     0.0  \n",
              "2  320746.0  158022.0   95128.0   514.0     0.0     0.0  \n",
              "3      10.0       0.0       0.0     0.0     4.0    32.0  \n",
              "4  286954.0  311560.0  433954.0  1218.0     0.0     0.0  \n",
              "\n",
              "[5 rows x 170 columns]"
            ],
            "text/html": [
              "\n",
              "  <div id=\"df-378fe378-54c4-400f-ac83-a9530bc3f920\">\n",
              "    <div class=\"colab-df-container\">\n",
              "      <div>\n",
              "<style scoped>\n",
              "    .dataframe tbody tr th:only-of-type {\n",
              "        vertical-align: middle;\n",
              "    }\n",
              "\n",
              "    .dataframe tbody tr th {\n",
              "        vertical-align: top;\n",
              "    }\n",
              "\n",
              "    .dataframe thead th {\n",
              "        text-align: right;\n",
              "    }\n",
              "</style>\n",
              "<table border=\"1\" class=\"dataframe\">\n",
              "  <thead>\n",
              "    <tr style=\"text-align: right;\">\n",
              "      <th></th>\n",
              "      <th>aa_000</th>\n",
              "      <th>ab_000</th>\n",
              "      <th>ac_000</th>\n",
              "      <th>ad_000</th>\n",
              "      <th>ae_000</th>\n",
              "      <th>af_000</th>\n",
              "      <th>ag_000</th>\n",
              "      <th>ag_001</th>\n",
              "      <th>ag_002</th>\n",
              "      <th>ag_003</th>\n",
              "      <th>...</th>\n",
              "      <th>ee_002</th>\n",
              "      <th>ee_003</th>\n",
              "      <th>ee_004</th>\n",
              "      <th>ee_005</th>\n",
              "      <th>ee_006</th>\n",
              "      <th>ee_007</th>\n",
              "      <th>ee_008</th>\n",
              "      <th>ee_009</th>\n",
              "      <th>ef_000</th>\n",
              "      <th>eg_000</th>\n",
              "    </tr>\n",
              "  </thead>\n",
              "  <tbody>\n",
              "    <tr>\n",
              "      <th>0</th>\n",
              "      <td>76698</td>\n",
              "      <td>0.713189</td>\n",
              "      <td>2.130706e+09</td>\n",
              "      <td>280.000000</td>\n",
              "      <td>0.0</td>\n",
              "      <td>0.0</td>\n",
              "      <td>0.0</td>\n",
              "      <td>0.0</td>\n",
              "      <td>0.0</td>\n",
              "      <td>0.0</td>\n",
              "      <td>...</td>\n",
              "      <td>1240520.0</td>\n",
              "      <td>493384.0</td>\n",
              "      <td>721044.0</td>\n",
              "      <td>469792.0</td>\n",
              "      <td>339156.0</td>\n",
              "      <td>157956.0</td>\n",
              "      <td>73224.0</td>\n",
              "      <td>0.0</td>\n",
              "      <td>0.0</td>\n",
              "      <td>0.0</td>\n",
              "    </tr>\n",
              "    <tr>\n",
              "      <th>1</th>\n",
              "      <td>33058</td>\n",
              "      <td>0.713189</td>\n",
              "      <td>0.000000e+00</td>\n",
              "      <td>190620.639314</td>\n",
              "      <td>0.0</td>\n",
              "      <td>0.0</td>\n",
              "      <td>0.0</td>\n",
              "      <td>0.0</td>\n",
              "      <td>0.0</td>\n",
              "      <td>0.0</td>\n",
              "      <td>...</td>\n",
              "      <td>421400.0</td>\n",
              "      <td>178064.0</td>\n",
              "      <td>293306.0</td>\n",
              "      <td>245416.0</td>\n",
              "      <td>133654.0</td>\n",
              "      <td>81140.0</td>\n",
              "      <td>97576.0</td>\n",
              "      <td>1500.0</td>\n",
              "      <td>0.0</td>\n",
              "      <td>0.0</td>\n",
              "    </tr>\n",
              "    <tr>\n",
              "      <th>2</th>\n",
              "      <td>41040</td>\n",
              "      <td>0.713189</td>\n",
              "      <td>2.280000e+02</td>\n",
              "      <td>100.000000</td>\n",
              "      <td>0.0</td>\n",
              "      <td>0.0</td>\n",
              "      <td>0.0</td>\n",
              "      <td>0.0</td>\n",
              "      <td>0.0</td>\n",
              "      <td>0.0</td>\n",
              "      <td>...</td>\n",
              "      <td>277378.0</td>\n",
              "      <td>159812.0</td>\n",
              "      <td>423992.0</td>\n",
              "      <td>409564.0</td>\n",
              "      <td>320746.0</td>\n",
              "      <td>158022.0</td>\n",
              "      <td>95128.0</td>\n",
              "      <td>514.0</td>\n",
              "      <td>0.0</td>\n",
              "      <td>0.0</td>\n",
              "    </tr>\n",
              "    <tr>\n",
              "      <th>3</th>\n",
              "      <td>12</td>\n",
              "      <td>0.000000</td>\n",
              "      <td>7.000000e+01</td>\n",
              "      <td>66.000000</td>\n",
              "      <td>0.0</td>\n",
              "      <td>10.0</td>\n",
              "      <td>0.0</td>\n",
              "      <td>0.0</td>\n",
              "      <td>0.0</td>\n",
              "      <td>318.0</td>\n",
              "      <td>...</td>\n",
              "      <td>240.0</td>\n",
              "      <td>46.0</td>\n",
              "      <td>58.0</td>\n",
              "      <td>44.0</td>\n",
              "      <td>10.0</td>\n",
              "      <td>0.0</td>\n",
              "      <td>0.0</td>\n",
              "      <td>0.0</td>\n",
              "      <td>4.0</td>\n",
              "      <td>32.0</td>\n",
              "    </tr>\n",
              "    <tr>\n",
              "      <th>4</th>\n",
              "      <td>60874</td>\n",
              "      <td>0.713189</td>\n",
              "      <td>1.368000e+03</td>\n",
              "      <td>458.000000</td>\n",
              "      <td>0.0</td>\n",
              "      <td>0.0</td>\n",
              "      <td>0.0</td>\n",
              "      <td>0.0</td>\n",
              "      <td>0.0</td>\n",
              "      <td>0.0</td>\n",
              "      <td>...</td>\n",
              "      <td>622012.0</td>\n",
              "      <td>229790.0</td>\n",
              "      <td>405298.0</td>\n",
              "      <td>347188.0</td>\n",
              "      <td>286954.0</td>\n",
              "      <td>311560.0</td>\n",
              "      <td>433954.0</td>\n",
              "      <td>1218.0</td>\n",
              "      <td>0.0</td>\n",
              "      <td>0.0</td>\n",
              "    </tr>\n",
              "  </tbody>\n",
              "</table>\n",
              "<p>5 rows × 170 columns</p>\n",
              "</div>\n",
              "      <button class=\"colab-df-convert\" onclick=\"convertToInteractive('df-378fe378-54c4-400f-ac83-a9530bc3f920')\"\n",
              "              title=\"Convert this dataframe to an interactive table.\"\n",
              "              style=\"display:none;\">\n",
              "        \n",
              "  <svg xmlns=\"http://www.w3.org/2000/svg\" height=\"24px\"viewBox=\"0 0 24 24\"\n",
              "       width=\"24px\">\n",
              "    <path d=\"M0 0h24v24H0V0z\" fill=\"none\"/>\n",
              "    <path d=\"M18.56 5.44l.94 2.06.94-2.06 2.06-.94-2.06-.94-.94-2.06-.94 2.06-2.06.94zm-11 1L8.5 8.5l.94-2.06 2.06-.94-2.06-.94L8.5 2.5l-.94 2.06-2.06.94zm10 10l.94 2.06.94-2.06 2.06-.94-2.06-.94-.94-2.06-.94 2.06-2.06.94z\"/><path d=\"M17.41 7.96l-1.37-1.37c-.4-.4-.92-.59-1.43-.59-.52 0-1.04.2-1.43.59L10.3 9.45l-7.72 7.72c-.78.78-.78 2.05 0 2.83L4 21.41c.39.39.9.59 1.41.59.51 0 1.02-.2 1.41-.59l7.78-7.78 2.81-2.81c.8-.78.8-2.07 0-2.86zM5.41 20L4 18.59l7.72-7.72 1.47 1.35L5.41 20z\"/>\n",
              "  </svg>\n",
              "      </button>\n",
              "      \n",
              "  <style>\n",
              "    .colab-df-container {\n",
              "      display:flex;\n",
              "      flex-wrap:wrap;\n",
              "      gap: 12px;\n",
              "    }\n",
              "\n",
              "    .colab-df-convert {\n",
              "      background-color: #E8F0FE;\n",
              "      border: none;\n",
              "      border-radius: 50%;\n",
              "      cursor: pointer;\n",
              "      display: none;\n",
              "      fill: #1967D2;\n",
              "      height: 32px;\n",
              "      padding: 0 0 0 0;\n",
              "      width: 32px;\n",
              "    }\n",
              "\n",
              "    .colab-df-convert:hover {\n",
              "      background-color: #E2EBFA;\n",
              "      box-shadow: 0px 1px 2px rgba(60, 64, 67, 0.3), 0px 1px 3px 1px rgba(60, 64, 67, 0.15);\n",
              "      fill: #174EA6;\n",
              "    }\n",
              "\n",
              "    [theme=dark] .colab-df-convert {\n",
              "      background-color: #3B4455;\n",
              "      fill: #D2E3FC;\n",
              "    }\n",
              "\n",
              "    [theme=dark] .colab-df-convert:hover {\n",
              "      background-color: #434B5C;\n",
              "      box-shadow: 0px 1px 3px 1px rgba(0, 0, 0, 0.15);\n",
              "      filter: drop-shadow(0px 1px 2px rgba(0, 0, 0, 0.3));\n",
              "      fill: #FFFFFF;\n",
              "    }\n",
              "  </style>\n",
              "\n",
              "      <script>\n",
              "        const buttonEl =\n",
              "          document.querySelector('#df-378fe378-54c4-400f-ac83-a9530bc3f920 button.colab-df-convert');\n",
              "        buttonEl.style.display =\n",
              "          google.colab.kernel.accessAllowed ? 'block' : 'none';\n",
              "\n",
              "        async function convertToInteractive(key) {\n",
              "          const element = document.querySelector('#df-378fe378-54c4-400f-ac83-a9530bc3f920');\n",
              "          const dataTable =\n",
              "            await google.colab.kernel.invokeFunction('convertToInteractive',\n",
              "                                                     [key], {});\n",
              "          if (!dataTable) return;\n",
              "\n",
              "          const docLinkHtml = 'Like what you see? Visit the ' +\n",
              "            '<a target=\"_blank\" href=https://colab.research.google.com/notebooks/data_table.ipynb>data table notebook</a>'\n",
              "            + ' to learn more about interactive tables.';\n",
              "          element.innerHTML = '';\n",
              "          dataTable['output_type'] = 'display_data';\n",
              "          await google.colab.output.renderOutput(dataTable, element);\n",
              "          const docLink = document.createElement('div');\n",
              "          docLink.innerHTML = docLinkHtml;\n",
              "          element.appendChild(docLink);\n",
              "        }\n",
              "      </script>\n",
              "    </div>\n",
              "  </div>\n",
              "  "
            ]
          },
          "metadata": {},
          "execution_count": 27
        }
      ]
    },
    {
      "cell_type": "code",
      "source": [
        "train_num.isnull().sum()"
      ],
      "metadata": {
        "colab": {
          "base_uri": "https://localhost:8080/"
        },
        "id": "wSRaXb-25U7o",
        "outputId": "47a05f07-4900-4a58-a015-247aee9cc4b7"
      },
      "execution_count": 28,
      "outputs": [
        {
          "output_type": "execute_result",
          "data": {
            "text/plain": [
              "aa_000    0\n",
              "ab_000    0\n",
              "ac_000    0\n",
              "ad_000    0\n",
              "ae_000    0\n",
              "         ..\n",
              "ee_007    0\n",
              "ee_008    0\n",
              "ee_009    0\n",
              "ef_000    0\n",
              "eg_000    0\n",
              "Length: 170, dtype: int64"
            ]
          },
          "metadata": {},
          "execution_count": 28
        }
      ]
    },
    {
      "cell_type": "code",
      "source": [
        "train.corr()"
      ],
      "metadata": {
        "colab": {
          "base_uri": "https://localhost:8080/",
          "height": 488
        },
        "id": "T0R3b8ue5kCE",
        "outputId": "dd7a7145-3ae7-4d58-afae-b071fa9a512b"
      },
      "execution_count": 29,
      "outputs": [
        {
          "output_type": "execute_result",
          "data": {
            "text/plain": [
              "           class    aa_000    ab_000    ac_000    ad_000    ae_000    af_000  \\\n",
              "class   1.000000  0.536978  0.031896 -0.036533 -0.000415  0.008873  0.022532   \n",
              "aa_000  0.536978  1.000000  0.073103 -0.032055 -0.001903  0.061971  0.089474   \n",
              "ab_000  0.031896  0.073103  1.000000 -0.019411  0.047281  0.031031  0.053532   \n",
              "ac_000 -0.036533 -0.032055 -0.019411  1.000000 -0.002380 -0.004997 -0.010554   \n",
              "ad_000 -0.000415 -0.001903  0.047281 -0.002380  1.000000 -0.000214 -0.000269   \n",
              "...          ...       ...       ...       ...       ...       ...       ...   \n",
              "ee_007  0.160580  0.606232  0.023867 -0.029417 -0.000829  0.052357  0.070306   \n",
              "ee_008  0.235880  0.471707  0.039369  0.016908 -0.002161 -0.010850 -0.013976   \n",
              "ee_009  0.116099  0.248039  0.074119  0.024354 -0.001050 -0.008206 -0.010237   \n",
              "ef_000  0.018400  0.019865  0.055590 -0.006571 -0.000102  0.070886  0.106281   \n",
              "eg_000  0.017526  0.037099  0.162948  0.014228 -0.000120  0.041715  0.060710   \n",
              "\n",
              "          ag_000    ag_001    ag_002  ...    ee_002    ee_003    ee_004  \\\n",
              "class   0.012368  0.191453  0.340611  ...  0.445155  0.430045  0.417192   \n",
              "aa_000  0.018610  0.143153  0.285815  ...  0.735324  0.739211  0.717810   \n",
              "ab_000  0.008418  0.013658  0.050068  ...  0.062280  0.098808  0.068790   \n",
              "ac_000  0.017620 -0.001088 -0.016665  ... -0.013692 -0.008111 -0.009849   \n",
              "ad_000 -0.000047 -0.000131 -0.000222  ... -0.002090 -0.002047 -0.001940   \n",
              "...          ...       ...       ...  ...       ...       ...       ...   \n",
              "ee_007  0.000307  0.044186  0.182990  ...  0.454833  0.446803  0.437682   \n",
              "ee_008 -0.000823  0.004878  0.009466  ...  0.453811  0.481392  0.459517   \n",
              "ee_009 -0.001230 -0.004309 -0.009498  ...  0.228248  0.239302  0.224638   \n",
              "ef_000 -0.000072  0.002875  0.011824  ...  0.007118  0.017480  0.005835   \n",
              "eg_000  0.000244  0.010930  0.034202  ...  0.008843  0.013671  0.014528   \n",
              "\n",
              "          ee_005    ee_006    ee_007    ee_008    ee_009    ef_000    eg_000  \n",
              "class   0.487019  0.416299  0.160580  0.235880  0.116099  0.018400  0.017526  \n",
              "aa_000  0.727240  0.726984  0.606232  0.471707  0.248039  0.019865  0.037099  \n",
              "ab_000  0.078091  0.048717  0.023867  0.039369  0.074119  0.055590  0.162948  \n",
              "ac_000 -0.011206 -0.021430 -0.029417  0.016908  0.024354 -0.006571  0.014228  \n",
              "ad_000 -0.001667 -0.001398 -0.000829 -0.002161 -0.001050 -0.000102 -0.000120  \n",
              "...          ...       ...       ...       ...       ...       ...       ...  \n",
              "ee_007  0.379892  0.545929  1.000000  0.224938  0.061478 -0.000715  0.002708  \n",
              "ee_008  0.406920  0.373871  0.224938  1.000000  0.710056 -0.006991 -0.002833  \n",
              "ee_009  0.190667  0.163792  0.061478  0.710056  1.000000 -0.003942 -0.000907  \n",
              "ef_000  0.050270  0.008461 -0.000715 -0.006991 -0.003942  1.000000  0.282184  \n",
              "eg_000  0.018663  0.033091  0.002708 -0.002833 -0.000907  0.282184  1.000000  \n",
              "\n",
              "[171 rows x 171 columns]"
            ],
            "text/html": [
              "\n",
              "  <div id=\"df-ffd6ac1f-1a1a-4c09-baa7-4c8290091505\">\n",
              "    <div class=\"colab-df-container\">\n",
              "      <div>\n",
              "<style scoped>\n",
              "    .dataframe tbody tr th:only-of-type {\n",
              "        vertical-align: middle;\n",
              "    }\n",
              "\n",
              "    .dataframe tbody tr th {\n",
              "        vertical-align: top;\n",
              "    }\n",
              "\n",
              "    .dataframe thead th {\n",
              "        text-align: right;\n",
              "    }\n",
              "</style>\n",
              "<table border=\"1\" class=\"dataframe\">\n",
              "  <thead>\n",
              "    <tr style=\"text-align: right;\">\n",
              "      <th></th>\n",
              "      <th>class</th>\n",
              "      <th>aa_000</th>\n",
              "      <th>ab_000</th>\n",
              "      <th>ac_000</th>\n",
              "      <th>ad_000</th>\n",
              "      <th>ae_000</th>\n",
              "      <th>af_000</th>\n",
              "      <th>ag_000</th>\n",
              "      <th>ag_001</th>\n",
              "      <th>ag_002</th>\n",
              "      <th>...</th>\n",
              "      <th>ee_002</th>\n",
              "      <th>ee_003</th>\n",
              "      <th>ee_004</th>\n",
              "      <th>ee_005</th>\n",
              "      <th>ee_006</th>\n",
              "      <th>ee_007</th>\n",
              "      <th>ee_008</th>\n",
              "      <th>ee_009</th>\n",
              "      <th>ef_000</th>\n",
              "      <th>eg_000</th>\n",
              "    </tr>\n",
              "  </thead>\n",
              "  <tbody>\n",
              "    <tr>\n",
              "      <th>class</th>\n",
              "      <td>1.000000</td>\n",
              "      <td>0.536978</td>\n",
              "      <td>0.031896</td>\n",
              "      <td>-0.036533</td>\n",
              "      <td>-0.000415</td>\n",
              "      <td>0.008873</td>\n",
              "      <td>0.022532</td>\n",
              "      <td>0.012368</td>\n",
              "      <td>0.191453</td>\n",
              "      <td>0.340611</td>\n",
              "      <td>...</td>\n",
              "      <td>0.445155</td>\n",
              "      <td>0.430045</td>\n",
              "      <td>0.417192</td>\n",
              "      <td>0.487019</td>\n",
              "      <td>0.416299</td>\n",
              "      <td>0.160580</td>\n",
              "      <td>0.235880</td>\n",
              "      <td>0.116099</td>\n",
              "      <td>0.018400</td>\n",
              "      <td>0.017526</td>\n",
              "    </tr>\n",
              "    <tr>\n",
              "      <th>aa_000</th>\n",
              "      <td>0.536978</td>\n",
              "      <td>1.000000</td>\n",
              "      <td>0.073103</td>\n",
              "      <td>-0.032055</td>\n",
              "      <td>-0.001903</td>\n",
              "      <td>0.061971</td>\n",
              "      <td>0.089474</td>\n",
              "      <td>0.018610</td>\n",
              "      <td>0.143153</td>\n",
              "      <td>0.285815</td>\n",
              "      <td>...</td>\n",
              "      <td>0.735324</td>\n",
              "      <td>0.739211</td>\n",
              "      <td>0.717810</td>\n",
              "      <td>0.727240</td>\n",
              "      <td>0.726984</td>\n",
              "      <td>0.606232</td>\n",
              "      <td>0.471707</td>\n",
              "      <td>0.248039</td>\n",
              "      <td>0.019865</td>\n",
              "      <td>0.037099</td>\n",
              "    </tr>\n",
              "    <tr>\n",
              "      <th>ab_000</th>\n",
              "      <td>0.031896</td>\n",
              "      <td>0.073103</td>\n",
              "      <td>1.000000</td>\n",
              "      <td>-0.019411</td>\n",
              "      <td>0.047281</td>\n",
              "      <td>0.031031</td>\n",
              "      <td>0.053532</td>\n",
              "      <td>0.008418</td>\n",
              "      <td>0.013658</td>\n",
              "      <td>0.050068</td>\n",
              "      <td>...</td>\n",
              "      <td>0.062280</td>\n",
              "      <td>0.098808</td>\n",
              "      <td>0.068790</td>\n",
              "      <td>0.078091</td>\n",
              "      <td>0.048717</td>\n",
              "      <td>0.023867</td>\n",
              "      <td>0.039369</td>\n",
              "      <td>0.074119</td>\n",
              "      <td>0.055590</td>\n",
              "      <td>0.162948</td>\n",
              "    </tr>\n",
              "    <tr>\n",
              "      <th>ac_000</th>\n",
              "      <td>-0.036533</td>\n",
              "      <td>-0.032055</td>\n",
              "      <td>-0.019411</td>\n",
              "      <td>1.000000</td>\n",
              "      <td>-0.002380</td>\n",
              "      <td>-0.004997</td>\n",
              "      <td>-0.010554</td>\n",
              "      <td>0.017620</td>\n",
              "      <td>-0.001088</td>\n",
              "      <td>-0.016665</td>\n",
              "      <td>...</td>\n",
              "      <td>-0.013692</td>\n",
              "      <td>-0.008111</td>\n",
              "      <td>-0.009849</td>\n",
              "      <td>-0.011206</td>\n",
              "      <td>-0.021430</td>\n",
              "      <td>-0.029417</td>\n",
              "      <td>0.016908</td>\n",
              "      <td>0.024354</td>\n",
              "      <td>-0.006571</td>\n",
              "      <td>0.014228</td>\n",
              "    </tr>\n",
              "    <tr>\n",
              "      <th>ad_000</th>\n",
              "      <td>-0.000415</td>\n",
              "      <td>-0.001903</td>\n",
              "      <td>0.047281</td>\n",
              "      <td>-0.002380</td>\n",
              "      <td>1.000000</td>\n",
              "      <td>-0.000214</td>\n",
              "      <td>-0.000269</td>\n",
              "      <td>-0.000047</td>\n",
              "      <td>-0.000131</td>\n",
              "      <td>-0.000222</td>\n",
              "      <td>...</td>\n",
              "      <td>-0.002090</td>\n",
              "      <td>-0.002047</td>\n",
              "      <td>-0.001940</td>\n",
              "      <td>-0.001667</td>\n",
              "      <td>-0.001398</td>\n",
              "      <td>-0.000829</td>\n",
              "      <td>-0.002161</td>\n",
              "      <td>-0.001050</td>\n",
              "      <td>-0.000102</td>\n",
              "      <td>-0.000120</td>\n",
              "    </tr>\n",
              "    <tr>\n",
              "      <th>...</th>\n",
              "      <td>...</td>\n",
              "      <td>...</td>\n",
              "      <td>...</td>\n",
              "      <td>...</td>\n",
              "      <td>...</td>\n",
              "      <td>...</td>\n",
              "      <td>...</td>\n",
              "      <td>...</td>\n",
              "      <td>...</td>\n",
              "      <td>...</td>\n",
              "      <td>...</td>\n",
              "      <td>...</td>\n",
              "      <td>...</td>\n",
              "      <td>...</td>\n",
              "      <td>...</td>\n",
              "      <td>...</td>\n",
              "      <td>...</td>\n",
              "      <td>...</td>\n",
              "      <td>...</td>\n",
              "      <td>...</td>\n",
              "      <td>...</td>\n",
              "    </tr>\n",
              "    <tr>\n",
              "      <th>ee_007</th>\n",
              "      <td>0.160580</td>\n",
              "      <td>0.606232</td>\n",
              "      <td>0.023867</td>\n",
              "      <td>-0.029417</td>\n",
              "      <td>-0.000829</td>\n",
              "      <td>0.052357</td>\n",
              "      <td>0.070306</td>\n",
              "      <td>0.000307</td>\n",
              "      <td>0.044186</td>\n",
              "      <td>0.182990</td>\n",
              "      <td>...</td>\n",
              "      <td>0.454833</td>\n",
              "      <td>0.446803</td>\n",
              "      <td>0.437682</td>\n",
              "      <td>0.379892</td>\n",
              "      <td>0.545929</td>\n",
              "      <td>1.000000</td>\n",
              "      <td>0.224938</td>\n",
              "      <td>0.061478</td>\n",
              "      <td>-0.000715</td>\n",
              "      <td>0.002708</td>\n",
              "    </tr>\n",
              "    <tr>\n",
              "      <th>ee_008</th>\n",
              "      <td>0.235880</td>\n",
              "      <td>0.471707</td>\n",
              "      <td>0.039369</td>\n",
              "      <td>0.016908</td>\n",
              "      <td>-0.002161</td>\n",
              "      <td>-0.010850</td>\n",
              "      <td>-0.013976</td>\n",
              "      <td>-0.000823</td>\n",
              "      <td>0.004878</td>\n",
              "      <td>0.009466</td>\n",
              "      <td>...</td>\n",
              "      <td>0.453811</td>\n",
              "      <td>0.481392</td>\n",
              "      <td>0.459517</td>\n",
              "      <td>0.406920</td>\n",
              "      <td>0.373871</td>\n",
              "      <td>0.224938</td>\n",
              "      <td>1.000000</td>\n",
              "      <td>0.710056</td>\n",
              "      <td>-0.006991</td>\n",
              "      <td>-0.002833</td>\n",
              "    </tr>\n",
              "    <tr>\n",
              "      <th>ee_009</th>\n",
              "      <td>0.116099</td>\n",
              "      <td>0.248039</td>\n",
              "      <td>0.074119</td>\n",
              "      <td>0.024354</td>\n",
              "      <td>-0.001050</td>\n",
              "      <td>-0.008206</td>\n",
              "      <td>-0.010237</td>\n",
              "      <td>-0.001230</td>\n",
              "      <td>-0.004309</td>\n",
              "      <td>-0.009498</td>\n",
              "      <td>...</td>\n",
              "      <td>0.228248</td>\n",
              "      <td>0.239302</td>\n",
              "      <td>0.224638</td>\n",
              "      <td>0.190667</td>\n",
              "      <td>0.163792</td>\n",
              "      <td>0.061478</td>\n",
              "      <td>0.710056</td>\n",
              "      <td>1.000000</td>\n",
              "      <td>-0.003942</td>\n",
              "      <td>-0.000907</td>\n",
              "    </tr>\n",
              "    <tr>\n",
              "      <th>ef_000</th>\n",
              "      <td>0.018400</td>\n",
              "      <td>0.019865</td>\n",
              "      <td>0.055590</td>\n",
              "      <td>-0.006571</td>\n",
              "      <td>-0.000102</td>\n",
              "      <td>0.070886</td>\n",
              "      <td>0.106281</td>\n",
              "      <td>-0.000072</td>\n",
              "      <td>0.002875</td>\n",
              "      <td>0.011824</td>\n",
              "      <td>...</td>\n",
              "      <td>0.007118</td>\n",
              "      <td>0.017480</td>\n",
              "      <td>0.005835</td>\n",
              "      <td>0.050270</td>\n",
              "      <td>0.008461</td>\n",
              "      <td>-0.000715</td>\n",
              "      <td>-0.006991</td>\n",
              "      <td>-0.003942</td>\n",
              "      <td>1.000000</td>\n",
              "      <td>0.282184</td>\n",
              "    </tr>\n",
              "    <tr>\n",
              "      <th>eg_000</th>\n",
              "      <td>0.017526</td>\n",
              "      <td>0.037099</td>\n",
              "      <td>0.162948</td>\n",
              "      <td>0.014228</td>\n",
              "      <td>-0.000120</td>\n",
              "      <td>0.041715</td>\n",
              "      <td>0.060710</td>\n",
              "      <td>0.000244</td>\n",
              "      <td>0.010930</td>\n",
              "      <td>0.034202</td>\n",
              "      <td>...</td>\n",
              "      <td>0.008843</td>\n",
              "      <td>0.013671</td>\n",
              "      <td>0.014528</td>\n",
              "      <td>0.018663</td>\n",
              "      <td>0.033091</td>\n",
              "      <td>0.002708</td>\n",
              "      <td>-0.002833</td>\n",
              "      <td>-0.000907</td>\n",
              "      <td>0.282184</td>\n",
              "      <td>1.000000</td>\n",
              "    </tr>\n",
              "  </tbody>\n",
              "</table>\n",
              "<p>171 rows × 171 columns</p>\n",
              "</div>\n",
              "      <button class=\"colab-df-convert\" onclick=\"convertToInteractive('df-ffd6ac1f-1a1a-4c09-baa7-4c8290091505')\"\n",
              "              title=\"Convert this dataframe to an interactive table.\"\n",
              "              style=\"display:none;\">\n",
              "        \n",
              "  <svg xmlns=\"http://www.w3.org/2000/svg\" height=\"24px\"viewBox=\"0 0 24 24\"\n",
              "       width=\"24px\">\n",
              "    <path d=\"M0 0h24v24H0V0z\" fill=\"none\"/>\n",
              "    <path d=\"M18.56 5.44l.94 2.06.94-2.06 2.06-.94-2.06-.94-.94-2.06-.94 2.06-2.06.94zm-11 1L8.5 8.5l.94-2.06 2.06-.94-2.06-.94L8.5 2.5l-.94 2.06-2.06.94zm10 10l.94 2.06.94-2.06 2.06-.94-2.06-.94-.94-2.06-.94 2.06-2.06.94z\"/><path d=\"M17.41 7.96l-1.37-1.37c-.4-.4-.92-.59-1.43-.59-.52 0-1.04.2-1.43.59L10.3 9.45l-7.72 7.72c-.78.78-.78 2.05 0 2.83L4 21.41c.39.39.9.59 1.41.59.51 0 1.02-.2 1.41-.59l7.78-7.78 2.81-2.81c.8-.78.8-2.07 0-2.86zM5.41 20L4 18.59l7.72-7.72 1.47 1.35L5.41 20z\"/>\n",
              "  </svg>\n",
              "      </button>\n",
              "      \n",
              "  <style>\n",
              "    .colab-df-container {\n",
              "      display:flex;\n",
              "      flex-wrap:wrap;\n",
              "      gap: 12px;\n",
              "    }\n",
              "\n",
              "    .colab-df-convert {\n",
              "      background-color: #E8F0FE;\n",
              "      border: none;\n",
              "      border-radius: 50%;\n",
              "      cursor: pointer;\n",
              "      display: none;\n",
              "      fill: #1967D2;\n",
              "      height: 32px;\n",
              "      padding: 0 0 0 0;\n",
              "      width: 32px;\n",
              "    }\n",
              "\n",
              "    .colab-df-convert:hover {\n",
              "      background-color: #E2EBFA;\n",
              "      box-shadow: 0px 1px 2px rgba(60, 64, 67, 0.3), 0px 1px 3px 1px rgba(60, 64, 67, 0.15);\n",
              "      fill: #174EA6;\n",
              "    }\n",
              "\n",
              "    [theme=dark] .colab-df-convert {\n",
              "      background-color: #3B4455;\n",
              "      fill: #D2E3FC;\n",
              "    }\n",
              "\n",
              "    [theme=dark] .colab-df-convert:hover {\n",
              "      background-color: #434B5C;\n",
              "      box-shadow: 0px 1px 3px 1px rgba(0, 0, 0, 0.15);\n",
              "      filter: drop-shadow(0px 1px 2px rgba(0, 0, 0, 0.3));\n",
              "      fill: #FFFFFF;\n",
              "    }\n",
              "  </style>\n",
              "\n",
              "      <script>\n",
              "        const buttonEl =\n",
              "          document.querySelector('#df-ffd6ac1f-1a1a-4c09-baa7-4c8290091505 button.colab-df-convert');\n",
              "        buttonEl.style.display =\n",
              "          google.colab.kernel.accessAllowed ? 'block' : 'none';\n",
              "\n",
              "        async function convertToInteractive(key) {\n",
              "          const element = document.querySelector('#df-ffd6ac1f-1a1a-4c09-baa7-4c8290091505');\n",
              "          const dataTable =\n",
              "            await google.colab.kernel.invokeFunction('convertToInteractive',\n",
              "                                                     [key], {});\n",
              "          if (!dataTable) return;\n",
              "\n",
              "          const docLinkHtml = 'Like what you see? Visit the ' +\n",
              "            '<a target=\"_blank\" href=https://colab.research.google.com/notebooks/data_table.ipynb>data table notebook</a>'\n",
              "            + ' to learn more about interactive tables.';\n",
              "          element.innerHTML = '';\n",
              "          dataTable['output_type'] = 'display_data';\n",
              "          await google.colab.output.renderOutput(dataTable, element);\n",
              "          const docLink = document.createElement('div');\n",
              "          docLink.innerHTML = docLinkHtml;\n",
              "          element.appendChild(docLink);\n",
              "        }\n",
              "      </script>\n",
              "    </div>\n",
              "  </div>\n",
              "  "
            ]
          },
          "metadata": {},
          "execution_count": 29
        }
      ]
    },
    {
      "cell_type": "code",
      "source": [
        "plt.figure(figsize=(12,10))\n",
        "sns.heatmap(train.corr(), cmap=\"CMRmap\", annot=True)"
      ],
      "metadata": {
        "colab": {
          "base_uri": "https://localhost:8080/",
          "height": 640
        },
        "id": "viitJ86E52rm",
        "outputId": "d099cae9-13c6-4681-b228-5752d4de892e"
      },
      "execution_count": 30,
      "outputs": [
        {
          "output_type": "execute_result",
          "data": {
            "text/plain": [
              "<matplotlib.axes._subplots.AxesSubplot at 0x7fc9a8a01190>"
            ]
          },
          "metadata": {},
          "execution_count": 30
        },
        {
          "output_type": "display_data",
          "data": {
            "text/plain": [
              "<Figure size 864x720 with 2 Axes>"
            ],
            "image/png": "[encoded data removed]"
          },
          "metadata": {
            "needs_background": "light"
          }
        }
      ]
    },
    {
      "cell_type": "markdown",
      "source": [
        "## Handling the Imbalance in the Dataset"
      ],
      "metadata": {
        "id": "6E-0HYxV6XTb"
      }
    },
    {
      "cell_type": "code",
      "source": [
        "from imblearn.over_sampling import SMOTE\n",
        "train['class'].value_counts()"
      ],
      "metadata": {
        "colab": {
          "base_uri": "https://localhost:8080/"
        },
        "id": "GT-Q6-te6Ovt",
        "outputId": "beebb5db-2aa7-44c3-a20d-8dd5edd850cb"
      },
      "execution_count": 31,
      "outputs": [
        {
          "output_type": "execute_result",
          "data": {
            "text/plain": [
              "0    59000\n",
              "1     1000\n",
              "Name: class, dtype: int64"
            ]
          },
          "metadata": {},
          "execution_count": 31
        }
      ]
    },
    {
      "cell_type": "code",
      "source": [
        "#Oversampling\n",
        "\n",
        "y = train['class']\n",
        "X = train_num\n",
        "\n",
        "oversample = SMOTE()\n",
        "X, y = oversample.fit_resample(X, y)"
      ],
      "metadata": {
        "id": "zwrI48896qoA"
      },
      "execution_count": 32,
      "outputs": []
    },
    {
      "cell_type": "code",
      "source": [
        "y.value_counts()"
      ],
      "metadata": {
        "colab": {
          "base_uri": "https://localhost:8080/"
        },
        "id": "LTQgRhjc60-P",
        "outputId": "1884318e-b47f-4a8f-9c97-951200d03eb3"
      },
      "execution_count": 33,
      "outputs": [
        {
          "output_type": "execute_result",
          "data": {
            "text/plain": [
              "0    59000\n",
              "1    59000\n",
              "Name: class, dtype: int64"
            ]
          },
          "metadata": {},
          "execution_count": 33
        }
      ]
    },
    {
      "cell_type": "code",
      "source": [
        "from sklearn.preprocessing import MinMaxScaler\n",
        "scaler = MinMaxScaler()\n",
        "X = pd.DataFrame(scaler.fit_transform(X), columns = list(X.columns))"
      ],
      "metadata": {
        "id": "mMeTIiFt64rF"
      },
      "execution_count": 34,
      "outputs": []
    },
    {
      "cell_type": "code",
      "source": [
        "X.head()\n"
      ],
      "metadata": {
        "colab": {
          "base_uri": "https://localhost:8080/",
          "height": 386
        },
        "id": "E8ayeyX27a81",
        "outputId": "4208e270-aad0-46b4-977f-529e1d1aa2b1"
      },
      "execution_count": 35,
      "outputs": [
        {
          "output_type": "execute_result",
          "data": {
            "text/plain": [
              "     aa_000    ab_000        ac_000        ad_000  ae_000    af_000  ag_000  \\\n",
              "0  0.027925  0.003496  9.999998e-01  3.261769e-08     0.0  0.000000     0.0   \n",
              "1  0.012036  0.003496  0.000000e+00  2.220573e-05     0.0  0.000000     0.0   \n",
              "2  0.014942  0.003496  1.070067e-07  1.164918e-08     0.0  0.000000     0.0   \n",
              "3  0.000004  0.000000  3.285295e-08  7.688457e-09     0.0  0.000498     0.0   \n",
              "4  0.022164  0.003496  6.420405e-07  5.335323e-08     0.0  0.000000     0.0   \n",
              "\n",
              "   ag_001  ag_002    ag_003  ...    ee_002    ee_003        ee_004  \\\n",
              "0     0.0     0.0  0.000000  ...  0.015918  0.013067  7.421784e-03   \n",
              "1     0.0     0.0  0.000000  ...  0.005407  0.004716  3.019031e-03   \n",
              "2     0.0     0.0  0.000000  ...  0.003559  0.004232  4.364196e-03   \n",
              "3     0.0     0.0  0.000005  ...  0.000003  0.000001  5.970003e-07   \n",
              "4     0.0     0.0  0.000000  ...  0.007981  0.006086  4.171776e-03   \n",
              "\n",
              "         ee_005        ee_006    ee_007    ee_008    ee_009    ef_000  \\\n",
              "0  8.179508e-03  1.073013e-02  0.001321  0.003800  0.000000  0.000000   \n",
              "1  4.272917e-03  4.228511e-03  0.000679  0.005064  0.000394  0.000000   \n",
              "2  7.130884e-03  1.014768e-02  0.001321  0.004937  0.000135  0.000000   \n",
              "3  7.660803e-07  3.163775e-07  0.000000  0.000000  0.000000  0.008299   \n",
              "4  6.044861e-03  9.078578e-03  0.002605  0.022523  0.000320  0.000000   \n",
              "\n",
              "     eg_000  \n",
              "0  0.000000  \n",
              "1  0.000000  \n",
              "2  0.000000  \n",
              "3  0.027923  \n",
              "4  0.000000  \n",
              "\n",
              "[5 rows x 170 columns]"
            ],
            "text/html": [
              "\n",
              "  <div id=\"df-97819720-1fe9-4d13-b5f5-104c5c58b593\">\n",
              "    <div class=\"colab-df-container\">\n",
              "      <div>\n",
              "<style scoped>\n",
              "    .dataframe tbody tr th:only-of-type {\n",
              "        vertical-align: middle;\n",
              "    }\n",
              "\n",
              "    .dataframe tbody tr th {\n",
              "        vertical-align: top;\n",
              "    }\n",
              "\n",
              "    .dataframe thead th {\n",
              "        text-align: right;\n",
              "    }\n",
              "</style>\n",
              "<table border=\"1\" class=\"dataframe\">\n",
              "  <thead>\n",
              "    <tr style=\"text-align: right;\">\n",
              "      <th></th>\n",
              "      <th>aa_000</th>\n",
              "      <th>ab_000</th>\n",
              "      <th>ac_000</th>\n",
              "      <th>ad_000</th>\n",
              "      <th>ae_000</th>\n",
              "      <th>af_000</th>\n",
              "      <th>ag_000</th>\n",
              "      <th>ag_001</th>\n",
              "      <th>ag_002</th>\n",
              "      <th>ag_003</th>\n",
              "      <th>...</th>\n",
              "      <th>ee_002</th>\n",
              "      <th>ee_003</th>\n",
              "      <th>ee_004</th>\n",
              "      <th>ee_005</th>\n",
              "      <th>ee_006</th>\n",
              "      <th>ee_007</th>\n",
              "      <th>ee_008</th>\n",
              "      <th>ee_009</th>\n",
              "      <th>ef_000</th>\n",
              "      <th>eg_000</th>\n",
              "    </tr>\n",
              "  </thead>\n",
              "  <tbody>\n",
              "    <tr>\n",
              "      <th>0</th>\n",
              "      <td>0.027925</td>\n",
              "      <td>0.003496</td>\n",
              "      <td>9.999998e-01</td>\n",
              "      <td>3.261769e-08</td>\n",
              "      <td>0.0</td>\n",
              "      <td>0.000000</td>\n",
              "      <td>0.0</td>\n",
              "      <td>0.0</td>\n",
              "      <td>0.0</td>\n",
              "      <td>0.000000</td>\n",
              "      <td>...</td>\n",
              "      <td>0.015918</td>\n",
              "      <td>0.013067</td>\n",
              "      <td>7.421784e-03</td>\n",
              "      <td>8.179508e-03</td>\n",
              "      <td>1.073013e-02</td>\n",
              "      <td>0.001321</td>\n",
              "      <td>0.003800</td>\n",
              "      <td>0.000000</td>\n",
              "      <td>0.000000</td>\n",
              "      <td>0.000000</td>\n",
              "    </tr>\n",
              "    <tr>\n",
              "      <th>1</th>\n",
              "      <td>0.012036</td>\n",
              "      <td>0.003496</td>\n",
              "      <td>0.000000e+00</td>\n",
              "      <td>2.220573e-05</td>\n",
              "      <td>0.0</td>\n",
              "      <td>0.000000</td>\n",
              "      <td>0.0</td>\n",
              "      <td>0.0</td>\n",
              "      <td>0.0</td>\n",
              "      <td>0.000000</td>\n",
              "      <td>...</td>\n",
              "      <td>0.005407</td>\n",
              "      <td>0.004716</td>\n",
              "      <td>3.019031e-03</td>\n",
              "      <td>4.272917e-03</td>\n",
              "      <td>4.228511e-03</td>\n",
              "      <td>0.000679</td>\n",
              "      <td>0.005064</td>\n",
              "      <td>0.000394</td>\n",
              "      <td>0.000000</td>\n",
              "      <td>0.000000</td>\n",
              "    </tr>\n",
              "    <tr>\n",
              "      <th>2</th>\n",
              "      <td>0.014942</td>\n",
              "      <td>0.003496</td>\n",
              "      <td>1.070067e-07</td>\n",
              "      <td>1.164918e-08</td>\n",
              "      <td>0.0</td>\n",
              "      <td>0.000000</td>\n",
              "      <td>0.0</td>\n",
              "      <td>0.0</td>\n",
              "      <td>0.0</td>\n",
              "      <td>0.000000</td>\n",
              "      <td>...</td>\n",
              "      <td>0.003559</td>\n",
              "      <td>0.004232</td>\n",
              "      <td>4.364196e-03</td>\n",
              "      <td>7.130884e-03</td>\n",
              "      <td>1.014768e-02</td>\n",
              "      <td>0.001321</td>\n",
              "      <td>0.004937</td>\n",
              "      <td>0.000135</td>\n",
              "      <td>0.000000</td>\n",
              "      <td>0.000000</td>\n",
              "    </tr>\n",
              "    <tr>\n",
              "      <th>3</th>\n",
              "      <td>0.000004</td>\n",
              "      <td>0.000000</td>\n",
              "      <td>3.285295e-08</td>\n",
              "      <td>7.688457e-09</td>\n",
              "      <td>0.0</td>\n",
              "      <td>0.000498</td>\n",
              "      <td>0.0</td>\n",
              "      <td>0.0</td>\n",
              "      <td>0.0</td>\n",
              "      <td>0.000005</td>\n",
              "      <td>...</td>\n",
              "      <td>0.000003</td>\n",
              "      <td>0.000001</td>\n",
              "      <td>5.970003e-07</td>\n",
              "      <td>7.660803e-07</td>\n",
              "      <td>3.163775e-07</td>\n",
              "      <td>0.000000</td>\n",
              "      <td>0.000000</td>\n",
              "      <td>0.000000</td>\n",
              "      <td>0.008299</td>\n",
              "      <td>0.027923</td>\n",
              "    </tr>\n",
              "    <tr>\n",
              "      <th>4</th>\n",
              "      <td>0.022164</td>\n",
              "      <td>0.003496</td>\n",
              "      <td>6.420405e-07</td>\n",
              "      <td>5.335323e-08</td>\n",
              "      <td>0.0</td>\n",
              "      <td>0.000000</td>\n",
              "      <td>0.0</td>\n",
              "      <td>0.0</td>\n",
              "      <td>0.0</td>\n",
              "      <td>0.000000</td>\n",
              "      <td>...</td>\n",
              "      <td>0.007981</td>\n",
              "      <td>0.006086</td>\n",
              "      <td>4.171776e-03</td>\n",
              "      <td>6.044861e-03</td>\n",
              "      <td>9.078578e-03</td>\n",
              "      <td>0.002605</td>\n",
              "      <td>0.022523</td>\n",
              "      <td>0.000320</td>\n",
              "      <td>0.000000</td>\n",
              "      <td>0.000000</td>\n",
              "    </tr>\n",
              "  </tbody>\n",
              "</table>\n",
              "<p>5 rows × 170 columns</p>\n",
              "</div>\n",
              "      <button class=\"colab-df-convert\" onclick=\"convertToInteractive('df-97819720-1fe9-4d13-b5f5-104c5c58b593')\"\n",
              "              title=\"Convert this dataframe to an interactive table.\"\n",
              "              style=\"display:none;\">\n",
              "        \n",
              "  <svg xmlns=\"http://www.w3.org/2000/svg\" height=\"24px\"viewBox=\"0 0 24 24\"\n",
              "       width=\"24px\">\n",
              "    <path d=\"M0 0h24v24H0V0z\" fill=\"none\"/>\n",
              "    <path d=\"M18.56 5.44l.94 2.06.94-2.06 2.06-.94-2.06-.94-.94-2.06-.94 2.06-2.06.94zm-11 1L8.5 8.5l.94-2.06 2.06-.94-2.06-.94L8.5 2.5l-.94 2.06-2.06.94zm10 10l.94 2.06.94-2.06 2.06-.94-2.06-.94-.94-2.06-.94 2.06-2.06.94z\"/><path d=\"M17.41 7.96l-1.37-1.37c-.4-.4-.92-.59-1.43-.59-.52 0-1.04.2-1.43.59L10.3 9.45l-7.72 7.72c-.78.78-.78 2.05 0 2.83L4 21.41c.39.39.9.59 1.41.59.51 0 1.02-.2 1.41-.59l7.78-7.78 2.81-2.81c.8-.78.8-2.07 0-2.86zM5.41 20L4 18.59l7.72-7.72 1.47 1.35L5.41 20z\"/>\n",
              "  </svg>\n",
              "      </button>\n",
              "      \n",
              "  <style>\n",
              "    .colab-df-container {\n",
              "      display:flex;\n",
              "      flex-wrap:wrap;\n",
              "      gap: 12px;\n",
              "    }\n",
              "\n",
              "    .colab-df-convert {\n",
              "      background-color: #E8F0FE;\n",
              "      border: none;\n",
              "      border-radius: 50%;\n",
              "      cursor: pointer;\n",
              "      display: none;\n",
              "      fill: #1967D2;\n",
              "      height: 32px;\n",
              "      padding: 0 0 0 0;\n",
              "      width: 32px;\n",
              "    }\n",
              "\n",
              "    .colab-df-convert:hover {\n",
              "      background-color: #E2EBFA;\n",
              "      box-shadow: 0px 1px 2px rgba(60, 64, 67, 0.3), 0px 1px 3px 1px rgba(60, 64, 67, 0.15);\n",
              "      fill: #174EA6;\n",
              "    }\n",
              "\n",
              "    [theme=dark] .colab-df-convert {\n",
              "      background-color: #3B4455;\n",
              "      fill: #D2E3FC;\n",
              "    }\n",
              "\n",
              "    [theme=dark] .colab-df-convert:hover {\n",
              "      background-color: #434B5C;\n",
              "      box-shadow: 0px 1px 3px 1px rgba(0, 0, 0, 0.15);\n",
              "      filter: drop-shadow(0px 1px 2px rgba(0, 0, 0, 0.3));\n",
              "      fill: #FFFFFF;\n",
              "    }\n",
              "  </style>\n",
              "\n",
              "      <script>\n",
              "        const buttonEl =\n",
              "          document.querySelector('#df-97819720-1fe9-4d13-b5f5-104c5c58b593 button.colab-df-convert');\n",
              "        buttonEl.style.display =\n",
              "          google.colab.kernel.accessAllowed ? 'block' : 'none';\n",
              "\n",
              "        async function convertToInteractive(key) {\n",
              "          const element = document.querySelector('#df-97819720-1fe9-4d13-b5f5-104c5c58b593');\n",
              "          const dataTable =\n",
              "            await google.colab.kernel.invokeFunction('convertToInteractive',\n",
              "                                                     [key], {});\n",
              "          if (!dataTable) return;\n",
              "\n",
              "          const docLinkHtml = 'Like what you see? Visit the ' +\n",
              "            '<a target=\"_blank\" href=https://colab.research.google.com/notebooks/data_table.ipynb>data table notebook</a>'\n",
              "            + ' to learn more about interactive tables.';\n",
              "          element.innerHTML = '';\n",
              "          dataTable['output_type'] = 'display_data';\n",
              "          await google.colab.output.renderOutput(dataTable, element);\n",
              "          const docLink = document.createElement('div');\n",
              "          docLink.innerHTML = docLinkHtml;\n",
              "          element.appendChild(docLink);\n",
              "        }\n",
              "      </script>\n",
              "    </div>\n",
              "  </div>\n",
              "  "
            ]
          },
          "metadata": {},
          "execution_count": 35
        }
      ]
    },
    {
      "cell_type": "code",
      "source": [],
      "metadata": {
        "id": "iLZ_DbQf_A0r"
      },
      "execution_count": 35,
      "outputs": []
    },
    {
      "cell_type": "code",
      "source": [],
      "metadata": {
        "id": "PwlDYO_s_NN4"
      },
      "execution_count": 35,
      "outputs": []
    },
    {
      "cell_type": "markdown",
      "source": [
        "# Logistic Regression"
      ],
      "metadata": {
        "id": "vFLZSEGd9peM"
      }
    },
    {
      "cell_type": "code",
      "source": [
        "from sklearn.model_selection import train_test_split\n",
        "\n",
        "x_train, x_test, y_train, y_test = train_test_split(X,y, test_size=0.50, random_state=42)"
      ],
      "metadata": {
        "id": "QCN-5h2i7t7l"
      },
      "execution_count": 36,
      "outputs": []
    },
    {
      "cell_type": "code",
      "source": [
        "from sklearn.preprocessing import StandardScaler\n",
        "scaler = StandardScaler()"
      ],
      "metadata": {
        "id": "vZoxgLH18Z8n"
      },
      "execution_count": 37,
      "outputs": []
    },
    {
      "cell_type": "code",
      "source": [
        "scaler"
      ],
      "metadata": {
        "colab": {
          "base_uri": "https://localhost:8080/"
        },
        "id": "Obzl1x2K86El",
        "outputId": "aff94db8-d53e-4f3a-ce7c-951d6e9b38ca"
      },
      "execution_count": 38,
      "outputs": [
        {
          "output_type": "execute_result",
          "data": {
            "text/plain": [
              "StandardScaler()"
            ]
          },
          "metadata": {},
          "execution_count": 38
        }
      ]
    },
    {
      "cell_type": "code",
      "source": [
        "x_train = scaler.fit_transform(x_train)"
      ],
      "metadata": {
        "id": "LPw5iaf287yx"
      },
      "execution_count": 39,
      "outputs": []
    },
    {
      "cell_type": "code",
      "source": [
        "x_test = scaler.transform(x_test)"
      ],
      "metadata": {
        "id": "PmzRuX_Y9LYQ"
      },
      "execution_count": 40,
      "outputs": []
    },
    {
      "cell_type": "code",
      "source": [
        "from sklearn.linear_model import LogisticRegression\n",
        "from sklearn.metrics import f1_score, auc, accuracy_score, recall_score, precision_score, confusion_matrix, classification_report, roc_auc_score, roc_curve\n",
        "from sklearn.model_selection import GridSearchCV\n",
        "from sklearn import tree\n",
        "from sklearn.metrics import plot_confusion_matrix\n",
        "from sklearn.ensemble import RandomForestClassifier\n",
        "import xgboost as xgb\n",
        "from xgboost import XGBClassifier\n",
        "from sklearn.linear_model import LogisticRegression\n",
        "from sklearn.svm import SVC\n",
        "from sklearn.tree import DecisionTreeClassifier\n",
        "from sklearn.ensemble import AdaBoostClassifier\n",
        "from sklearn.ensemble import GradientBoostingClassifier\n"
      ],
      "metadata": {
        "id": "ALr9UyIy93sS"
      },
      "execution_count": 41,
      "outputs": []
    },
    {
      "cell_type": "code",
      "source": [
        "log_reg = LogisticRegression()\n",
        "log_reg\n",
        "log_reg.fit(x_train, y_train)\n",
        "y_predict = log_reg.predict(x_test)\n",
        "accuracy_log = accuracy_score(y_test, y_predict)\n",
        "accuracy_log"
      ],
      "metadata": {
        "colab": {
          "base_uri": "https://localhost:8080/"
        },
        "id": "ep1MM5D5985u",
        "outputId": "9f5653f4-7813-43a9-a3db-7f04a169de9c"
      },
      "execution_count": 42,
      "outputs": [
        {
          "output_type": "execute_result",
          "data": {
            "text/plain": [
              "0.9681864406779661"
            ]
          },
          "metadata": {},
          "execution_count": 42
        }
      ]
    },
    {
      "cell_type": "markdown",
      "source": [
        "#### Confusion Matrix"
      ],
      "metadata": {
        "id": "fKxIl7bxBvl5"
      }
    },
    {
      "cell_type": "code",
      "source": [
        "confusion_mat = confusion_matrix(y_test, y_predict)\n",
        "confusion_mat"
      ],
      "metadata": {
        "colab": {
          "base_uri": "https://localhost:8080/"
        },
        "id": "FM5e848BBmk_",
        "outputId": "eb4e0520-5b17-4972-cd4b-74e29ab67d90"
      },
      "execution_count": 43,
      "outputs": [
        {
          "output_type": "execute_result",
          "data": {
            "text/plain": [
              "array([[28895,   680],\n",
              "       [ 1197, 28228]])"
            ]
          },
          "metadata": {},
          "execution_count": 43
        }
      ]
    },
    {
      "cell_type": "code",
      "source": [
        "TP = confusion_mat[0][0]\n",
        "FP = confusion_mat[0][1]\n",
        "FN = confusion_mat[1][0]\n",
        "TN = confusion_mat[1][1]"
      ],
      "metadata": {
        "id": "KzW1J7SrB8EA"
      },
      "execution_count": 44,
      "outputs": []
    },
    {
      "cell_type": "code",
      "source": [
        "acc_score = (TP+TN)/(TP+FP+FN+TN)\n",
        "acc_score"
      ],
      "metadata": {
        "colab": {
          "base_uri": "https://localhost:8080/"
        },
        "id": "CLDi-4wnCNk-",
        "outputId": "8327fb60-f867-4429-e9c2-0ef902dd131c"
      },
      "execution_count": 45,
      "outputs": [
        {
          "output_type": "execute_result",
          "data": {
            "text/plain": [
              "0.9681864406779661"
            ]
          },
          "metadata": {},
          "execution_count": 45
        }
      ]
    },
    {
      "cell_type": "code",
      "source": [
        "Pre_sco= round(TP/(TP+FP),4)\n",
        "Pre_sco"
      ],
      "metadata": {
        "colab": {
          "base_uri": "https://localhost:8080/"
        },
        "id": "1cTzJjcDCXBy",
        "outputId": "72494afa-37ca-4df7-9193-b5ae33e26319"
      },
      "execution_count": 46,
      "outputs": [
        {
          "output_type": "execute_result",
          "data": {
            "text/plain": [
              "0.977"
            ]
          },
          "metadata": {},
          "execution_count": 46
        }
      ]
    },
    {
      "cell_type": "code",
      "source": [
        "rec_sco = round(TP/(TP+FN), 4)\n",
        "rec_sco"
      ],
      "metadata": {
        "colab": {
          "base_uri": "https://localhost:8080/"
        },
        "id": "ES2A_rPCCfc9",
        "outputId": "d2dbefa0-cfcc-494d-8dca-76a18b790f47"
      },
      "execution_count": 47,
      "outputs": [
        {
          "output_type": "execute_result",
          "data": {
            "text/plain": [
              "0.9602"
            ]
          },
          "metadata": {},
          "execution_count": 47
        }
      ]
    },
    {
      "cell_type": "code",
      "source": [
        "print(classification_report(y_predict, y_test))"
      ],
      "metadata": {
        "colab": {
          "base_uri": "https://localhost:8080/"
        },
        "id": "uXMWTZfCH7U5",
        "outputId": "611ab235-f729-4ada-837a-538138b77115"
      },
      "execution_count": 48,
      "outputs": [
        {
          "output_type": "stream",
          "name": "stdout",
          "text": [
            "              precision    recall  f1-score   support\n",
            "\n",
            "           0       0.98      0.96      0.97     30092\n",
            "           1       0.96      0.98      0.97     28908\n",
            "\n",
            "    accuracy                           0.97     59000\n",
            "   macro avg       0.97      0.97      0.97     59000\n",
            "weighted avg       0.97      0.97      0.97     59000\n",
            "\n"
          ]
        }
      ]
    },
    {
      "cell_type": "markdown",
      "source": [
        "#### Hyperparameter Tuniung"
      ],
      "metadata": {
        "id": "VNAikbuIJsrJ"
      }
    },
    {
      "cell_type": "code",
      "source": [
        "parameter = [{'penalty': ['l1', ' l2']},\n",
        "             {\"C\":[1, 10, 100, 1000]}]"
      ],
      "metadata": {
        "id": "5w5P-R22JsLq"
      },
      "execution_count": 49,
      "outputs": []
    },
    {
      "cell_type": "code",
      "source": [
        "grid_search= GridSearchCV(estimator = log_reg, param_grid = parameter, scoring='accuracy', cv = 5, verbose =0)"
      ],
      "metadata": {
        "id": "qxB8LLy1J9te"
      },
      "execution_count": 50,
      "outputs": []
    },
    {
      "cell_type": "code",
      "source": [
        "grid_search.fit(x_train, y_train)"
      ],
      "metadata": {
        "colab": {
          "base_uri": "https://localhost:8080/"
        },
        "id": "XhKhFF0nKdVf",
        "outputId": "c475c906-f3fc-4952-ebed-5f0539609894"
      },
      "execution_count": 51,
      "outputs": [
        {
          "output_type": "execute_result",
          "data": {
            "text/plain": [
              "GridSearchCV(cv=5, estimator=LogisticRegression(),\n",
              "             param_grid=[{'penalty': ['l1', ' l2']}, {'C': [1, 10, 100, 1000]}],\n",
              "             scoring='accuracy')"
            ]
          },
          "metadata": {},
          "execution_count": 51
        }
      ]
    },
    {
      "cell_type": "code",
      "source": [
        "grid_search.best_params_"
      ],
      "metadata": {
        "colab": {
          "base_uri": "https://localhost:8080/"
        },
        "id": "1xjo3muLKl3E",
        "outputId": "84575a76-8c3a-4ec9-aff7-7bd64e9ab788"
      },
      "execution_count": 52,
      "outputs": [
        {
          "output_type": "execute_result",
          "data": {
            "text/plain": [
              "{'C': 100}"
            ]
          },
          "metadata": {},
          "execution_count": 52
        }
      ]
    },
    {
      "cell_type": "code",
      "source": [
        "log_class = LogisticRegression(C=100)\n",
        "log_class.fit(x_train, y_train)\n",
        "y_predict_hyper = log_class.predict(x_test)\n",
        "accuracy_score(y_test, y_predict_hyper)"
      ],
      "metadata": {
        "colab": {
          "base_uri": "https://localhost:8080/"
        },
        "id": "gMyQEwjmK2rz",
        "outputId": "46b41182-e8aa-423b-cc0f-1ec36c2d5b06"
      },
      "execution_count": 53,
      "outputs": [
        {
          "output_type": "execute_result",
          "data": {
            "text/plain": [
              "0.9686271186440678"
            ]
          },
          "metadata": {},
          "execution_count": 53
        }
      ]
    },
    {
      "cell_type": "code",
      "source": [
        "## AUC-ROC\n",
        "y_test_pred = log_class.predict_proba(x_test)\n",
        "roc_auc_score(y_test, y_test_pred[:,1])"
      ],
      "metadata": {
        "colab": {
          "base_uri": "https://localhost:8080/"
        },
        "id": "93m3MI8QLgOO",
        "outputId": "911075b0-8396-4f48-a106-9888bb0a1c38"
      },
      "execution_count": 54,
      "outputs": [
        {
          "output_type": "execute_result",
          "data": {
            "text/plain": [
              "0.9926304694586506"
            ]
          },
          "metadata": {},
          "execution_count": 54
        }
      ]
    },
    {
      "cell_type": "code",
      "source": [
        "print(classification_report(y_test, y_predict_hyper))"
      ],
      "metadata": {
        "colab": {
          "base_uri": "https://localhost:8080/"
        },
        "id": "0LFOgVBfMB1q",
        "outputId": "1e5ec9d3-61b5-47dc-adf9-b4620ad5616b"
      },
      "execution_count": 55,
      "outputs": [
        {
          "output_type": "stream",
          "name": "stdout",
          "text": [
            "              precision    recall  f1-score   support\n",
            "\n",
            "           0       0.96      0.98      0.97     29575\n",
            "           1       0.98      0.96      0.97     29425\n",
            "\n",
            "    accuracy                           0.97     59000\n",
            "   macro avg       0.97      0.97      0.97     59000\n",
            "weighted avg       0.97      0.97      0.97     59000\n",
            "\n"
          ]
        }
      ]
    },
    {
      "cell_type": "code",
      "source": [
        "plot_confusion_matrix(log_class, x_test, y_test)\n",
        "plt.show()"
      ],
      "metadata": {
        "colab": {
          "base_uri": "https://localhost:8080/",
          "height": 279
        },
        "id": "IpvajkZjMRbh",
        "outputId": "d7e208a5-0bc8-40ff-f956-1f44c217c044"
      },
      "execution_count": 56,
      "outputs": [
        {
          "output_type": "display_data",
          "data": {
            "text/plain": [
              "<Figure size 432x288 with 2 Axes>"
            ],
            "image/png": "[encoded data removed]"
          },
          "metadata": {
            "needs_background": "light"
          }
        }
      ]
    },
    {
      "cell_type": "markdown",
      "source": [
        "# **SVC**"
      ],
      "metadata": {
        "id": "zzr-cSXjDjyI"
      }
    },
    {
      "cell_type": "code",
      "source": [
        "model_svc = SVC()\n",
        "model_svc.fit(x_train, y_train)\n",
        "y_predict_svc = model_svc.predict(x_test)\n",
        "accuracy_score(y_test, y_predict_svc)"
      ],
      "metadata": {
        "colab": {
          "base_uri": "https://localhost:8080/"
        },
        "id": "deTwi9GKDY4s",
        "outputId": "26a8313e-0286-45c4-c5a0-202161e1cde7"
      },
      "execution_count": 57,
      "outputs": [
        {
          "output_type": "execute_result",
          "data": {
            "text/plain": [
              "0.9763220338983051"
            ]
          },
          "metadata": {},
          "execution_count": 57
        }
      ]
    },
    {
      "cell_type": "code",
      "source": [
        "# AUC-ROC\n",
        "y_predict_svc_auc = model_svc.predict(x_test)\n",
        "roc_auc_score(y_test, y_predict_svc_auc)"
      ],
      "metadata": {
        "colab": {
          "base_uri": "https://localhost:8080/"
        },
        "id": "DGVxCFIUNJKS",
        "outputId": "b2554738-0ce7-45c6-d747-db2c7129db89"
      },
      "execution_count": 58,
      "outputs": [
        {
          "output_type": "execute_result",
          "data": {
            "text/plain": [
              "0.9763047735873042"
            ]
          },
          "metadata": {},
          "execution_count": 58
        }
      ]
    },
    {
      "cell_type": "markdown",
      "source": [
        "# **Decision Tree**"
      ],
      "metadata": {
        "id": "tx4fiHFAPRdg"
      }
    },
    {
      "cell_type": "code",
      "source": [
        "model_dt = DecisionTreeClassifier()\n",
        "model_dt.fit(x_train, y_train)\n",
        "y_predict_dt = model_dt.predict(x_test)"
      ],
      "metadata": {
        "id": "N0QiIDRLO5BQ"
      },
      "execution_count": 59,
      "outputs": []
    },
    {
      "cell_type": "code",
      "source": [
        "accuracy_score(y_test, y_predict_dt)"
      ],
      "metadata": {
        "colab": {
          "base_uri": "https://localhost:8080/"
        },
        "id": "W_CMkU74QFln",
        "outputId": "66a828c5-a517-4d9c-e63c-323ef06166a0"
      },
      "execution_count": 60,
      "outputs": [
        {
          "output_type": "execute_result",
          "data": {
            "text/plain": [
              "0.9889830508474576"
            ]
          },
          "metadata": {},
          "execution_count": 60
        }
      ]
    },
    {
      "cell_type": "code",
      "source": [
        "model_dt_hyper = DecisionTreeClassifier(criterion='gini', max_depth= 6, min_samples_leaf= 5, min_samples_split= 6)\n",
        "model_dt_hyper.fit(x_train, y_train)\n",
        "y_predict_dt_hyper = model_dt_hyper.predict(x_test)\n",
        "accuracy_score(y_test, y_predict_dt_hyper)"
      ],
      "metadata": {
        "colab": {
          "base_uri": "https://localhost:8080/"
        },
        "id": "dYzB3sV6QMmu",
        "outputId": "8e2d46e5-db41-496f-8dbc-16868b2bfff9"
      },
      "execution_count": 61,
      "outputs": [
        {
          "output_type": "execute_result",
          "data": {
            "text/plain": [
              "0.9701694915254238"
            ]
          },
          "metadata": {},
          "execution_count": 61
        }
      ]
    },
    {
      "cell_type": "code",
      "source": [
        "#AUC-ROC\n",
        "y_predict_dt_auc = model_dt_hyper.predict_proba(x_test)\n",
        "roc_auc_score(y_test,y_predict_dt_auc[:,1])"
      ],
      "metadata": {
        "colab": {
          "base_uri": "https://localhost:8080/"
        },
        "id": "NaspkBXzRYsf",
        "outputId": "f6cce708-5360-432c-f21f-229696afab47"
      },
      "execution_count": 62,
      "outputs": [
        {
          "output_type": "execute_result",
          "data": {
            "text/plain": [
              "0.9867703431004653"
            ]
          },
          "metadata": {},
          "execution_count": 62
        }
      ]
    },
    {
      "cell_type": "code",
      "source": [
        "print(classification_report(y_test,y_predict_dt_hyper))"
      ],
      "metadata": {
        "colab": {
          "base_uri": "https://localhost:8080/"
        },
        "id": "xB_aYNEMwD1L",
        "outputId": "eeddc971-28e3-4f3d-ab17-e0d68bcda6d7"
      },
      "execution_count": 63,
      "outputs": [
        {
          "output_type": "stream",
          "name": "stdout",
          "text": [
            "              precision    recall  f1-score   support\n",
            "\n",
            "           0       0.97      0.97      0.97     29575\n",
            "           1       0.97      0.97      0.97     29425\n",
            "\n",
            "    accuracy                           0.97     59000\n",
            "   macro avg       0.97      0.97      0.97     59000\n",
            "weighted avg       0.97      0.97      0.97     59000\n",
            "\n"
          ]
        }
      ]
    },
    {
      "cell_type": "markdown",
      "source": [
        "# **Random Forest**"
      ],
      "metadata": {
        "id": "BPDHwaN7SGwz"
      }
    },
    {
      "cell_type": "code",
      "source": [
        "model_rf = RandomForestClassifier(max_depth=2, random_state=0)\n",
        "model_rf.fit(x_train, y_train)\n",
        "y_predict_rf  = model_rf.predict(x_test)\n",
        "accuracy_score(y_test, y_predict_rf)"
      ],
      "metadata": {
        "colab": {
          "base_uri": "https://localhost:8080/"
        },
        "id": "sD6SNxVwSCUN",
        "outputId": "3824f84b-0098-4320-b5eb-4aed82a674fd"
      },
      "execution_count": 64,
      "outputs": [
        {
          "output_type": "execute_result",
          "data": {
            "text/plain": [
              "0.9455593220338983"
            ]
          },
          "metadata": {},
          "execution_count": 64
        }
      ]
    },
    {
      "cell_type": "code",
      "source": [
        "## AUC_ROC\n",
        "y_predict_rf_auc = model_rf.predict_proba(x_test)\n",
        "roc_auc_score(y_test, y_predict_rf_auc[:,1])"
      ],
      "metadata": {
        "colab": {
          "base_uri": "https://localhost:8080/"
        },
        "id": "Rf5-jLhyw3XV",
        "outputId": "f7c7c8da-f978-4065-c29a-abf0aaa99e82"
      },
      "execution_count": 65,
      "outputs": [
        {
          "output_type": "execute_result",
          "data": {
            "text/plain": [
              "0.9842353568789226"
            ]
          },
          "metadata": {},
          "execution_count": 65
        }
      ]
    },
    {
      "cell_type": "code",
      "source": [
        "print(classification_report(y_test, y_predict_rf))"
      ],
      "metadata": {
        "colab": {
          "base_uri": "https://localhost:8080/"
        },
        "id": "FlC3lsLOxRwa",
        "outputId": "98b259af-1b70-4acc-a71d-1737d4b7d7c3"
      },
      "execution_count": 66,
      "outputs": [
        {
          "output_type": "stream",
          "name": "stdout",
          "text": [
            "              precision    recall  f1-score   support\n",
            "\n",
            "           0       0.95      0.94      0.95     29575\n",
            "           1       0.94      0.95      0.95     29425\n",
            "\n",
            "    accuracy                           0.95     59000\n",
            "   macro avg       0.95      0.95      0.95     59000\n",
            "weighted avg       0.95      0.95      0.95     59000\n",
            "\n"
          ]
        }
      ]
    },
    {
      "cell_type": "code",
      "source": [
        "plot_confusion_matrix(model_rf, x_test, y_test)\n",
        "plt.show()"
      ],
      "metadata": {
        "colab": {
          "base_uri": "https://localhost:8080/",
          "height": 279
        },
        "id": "BWOCwvCyxb-E",
        "outputId": "1ac9ff3f-3c43-430b-fb12-4b6d7b6afedd"
      },
      "execution_count": 85,
      "outputs": [
        {
          "output_type": "display_data",
          "data": {
            "text/plain": [
              "<Figure size 432x288 with 2 Axes>"
            ],
            "image/png": "[encoded data removed]"
          },
          "metadata": {
            "needs_background": "light"
          }
        }
      ]
    },
    {
      "cell_type": "markdown",
      "source": [
        "# **Adaboost**"
      ],
      "metadata": {
        "id": "G1EAeUdEGh4T"
      }
    },
    {
      "cell_type": "code",
      "source": [
        "model_ada = AdaBoostClassifier()\n",
        "model_ada.fit(x_train, y_train)\n",
        "y_predict_ada = model_ada.predict(x_test)\n",
        "accuracy_score(y_test, y_predict_ada)"
      ],
      "metadata": {
        "colab": {
          "base_uri": "https://localhost:8080/"
        },
        "id": "WwiQBo4V82o3",
        "outputId": "57ecaef9-aac2-475a-914a-c9c40867b70e"
      },
      "execution_count": 86,
      "outputs": [
        {
          "output_type": "execute_result",
          "data": {
            "text/plain": [
              "0.9773389830508474"
            ]
          },
          "metadata": {},
          "execution_count": 86
        }
      ]
    },
    {
      "cell_type": "code",
      "source": [
        "#Auc_Roc\n",
        "y_predict_ada_auc = model_ada.predict_proba(x_test)\n",
        "roc_auc_score(y_test,y_predict_ada_auc[:,1])"
      ],
      "metadata": {
        "colab": {
          "base_uri": "https://localhost:8080/"
        },
        "id": "vpOwnF7AyHSB",
        "outputId": "51f8c8ef-7546-4e24-cb8f-41908634cfae"
      },
      "execution_count": 87,
      "outputs": [
        {
          "output_type": "execute_result",
          "data": {
            "text/plain": [
              "0.997437960457946"
            ]
          },
          "metadata": {},
          "execution_count": 87
        }
      ]
    },
    {
      "cell_type": "code",
      "source": [
        "print(classification_report(y_test, y_predict_ada))"
      ],
      "metadata": {
        "colab": {
          "base_uri": "https://localhost:8080/"
        },
        "id": "7OIxsJds3vY3",
        "outputId": "23622abd-e2dc-407e-edc2-3f909f46e7ba"
      },
      "execution_count": 88,
      "outputs": [
        {
          "output_type": "stream",
          "name": "stdout",
          "text": [
            "              precision    recall  f1-score   support\n",
            "\n",
            "           0       0.98      0.98      0.98     29575\n",
            "           1       0.98      0.98      0.98     29425\n",
            "\n",
            "    accuracy                           0.98     59000\n",
            "   macro avg       0.98      0.98      0.98     59000\n",
            "weighted avg       0.98      0.98      0.98     59000\n",
            "\n"
          ]
        }
      ]
    },
    {
      "cell_type": "code",
      "source": [
        "plot_confusion_matrix(model_ada, x_test, y_test)\n",
        "plt.show()"
      ],
      "metadata": {
        "colab": {
          "base_uri": "https://localhost:8080/",
          "height": 279
        },
        "id": "7aCSmOE3yO54",
        "outputId": "dbb8c86e-1d2a-42cf-c444-2355723befcc"
      },
      "execution_count": 90,
      "outputs": [
        {
          "output_type": "display_data",
          "data": {
            "text/plain": [
              "<Figure size 432x288 with 2 Axes>"
            ],
            "image/png": "[encoded data removed]"
          },
          "metadata": {
            "needs_background": "light"
          }
        }
      ]
    },
    {
      "cell_type": "markdown",
      "source": [
        "# **Gradient Boosting**"
      ],
      "metadata": {
        "id": "Ns_r8Gi0IN6U"
      }
    },
    {
      "cell_type": "code",
      "source": [
        "model_gb = GradientBoostingClassifier()\n",
        "model_gb.fit(x_train, y_train)\n",
        "y_predict_gb = model_gb.predict(x_test)\n",
        "accuracy_score(y_test, y_predict_gb)"
      ],
      "metadata": {
        "colab": {
          "base_uri": "https://localhost:8080/"
        },
        "id": "yTftMQ3zIKTb",
        "outputId": "01cbcfc4-df9c-4e4f-e4bb-0042938e5dd0"
      },
      "execution_count": 91,
      "outputs": [
        {
          "output_type": "execute_result",
          "data": {
            "text/plain": [
              "0.9838983050847457"
            ]
          },
          "metadata": {},
          "execution_count": 91
        }
      ]
    },
    {
      "cell_type": "code",
      "source": [
        "#Auc_Roc\n",
        "y_predict_gb_auc = model_gb.predict_proba(x_test)\n",
        "roc_auc_score(y_test, y_predict_gb_auc[:,1])"
      ],
      "metadata": {
        "colab": {
          "base_uri": "https://localhost:8080/"
        },
        "id": "-P-B2jTHInkC",
        "outputId": "469cbd94-6fc2-4401-9dad-c407421a3377"
      },
      "execution_count": 93,
      "outputs": [
        {
          "output_type": "execute_result",
          "data": {
            "text/plain": [
              "0.9987488330504866"
            ]
          },
          "metadata": {},
          "execution_count": 93
        }
      ]
    },
    {
      "cell_type": "code",
      "source": [
        "print(classification_report(y_test, y_predict_gb))"
      ],
      "metadata": {
        "colab": {
          "base_uri": "https://localhost:8080/"
        },
        "id": "RYfb7aOvJD3R",
        "outputId": "93eafb34-cf87-4d98-d7bd-255b34728dc9"
      },
      "execution_count": 94,
      "outputs": [
        {
          "output_type": "stream",
          "name": "stdout",
          "text": [
            "              precision    recall  f1-score   support\n",
            "\n",
            "           0       0.99      0.98      0.98     29575\n",
            "           1       0.98      0.99      0.98     29425\n",
            "\n",
            "    accuracy                           0.98     59000\n",
            "   macro avg       0.98      0.98      0.98     59000\n",
            "weighted avg       0.98      0.98      0.98     59000\n",
            "\n"
          ]
        }
      ]
    },
    {
      "cell_type": "code",
      "source": [
        "plot_confusion_matrix(model_gb, x_test, y_test)\n",
        "plt.show()"
      ],
      "metadata": {
        "colab": {
          "base_uri": "https://localhost:8080/",
          "height": 279
        },
        "id": "YC904rlfJLLO",
        "outputId": "0c666472-2891-43fd-b540-b4dac583afea"
      },
      "execution_count": 95,
      "outputs": [
        {
          "output_type": "display_data",
          "data": {
            "text/plain": [
              "<Figure size 432x288 with 2 Axes>"
            ],
            "image/png": "[encoded data removed]"
          },
          "metadata": {
            "needs_background": "light"
          }
        }
      ]
    },
    {
      "cell_type": "markdown",
      "source": [
        "# **XGBoost**"
      ],
      "metadata": {
        "id": "lRV76rYyJSX_"
      }
    },
    {
      "cell_type": "code",
      "source": [
        "model_xgb = xgb.XGBClassifier()\n",
        "model_xgb.fit(x_train, y_train)\n",
        "y_predict_xgb = model_xgb.predict(x_test)\n",
        "accuracy_score(y_test, y_predict_xgb)"
      ],
      "metadata": {
        "colab": {
          "base_uri": "https://localhost:8080/"
        },
        "id": "3vzi8FG-JUks",
        "outputId": "b35c7146-84be-43d1-c5c0-cd38b1d5f61b"
      },
      "execution_count": 96,
      "outputs": [
        {
          "output_type": "execute_result",
          "data": {
            "text/plain": [
              "0.9694745762711865"
            ]
          },
          "metadata": {},
          "execution_count": 96
        }
      ]
    },
    {
      "cell_type": "code",
      "source": [
        "#Auc_Roc\n",
        "y_predict_xgb_auc = model_xgb.predict_proba(x_test)\n",
        "roc_auc_score(y_test, y_predict_xgb_auc[:,1])"
      ],
      "metadata": {
        "colab": {
          "base_uri": "https://localhost:8080/"
        },
        "id": "AliD5R1uK40P",
        "outputId": "6b2ff60a-2875-45d1-a267-afb5650a3d3f"
      },
      "execution_count": 97,
      "outputs": [
        {
          "output_type": "execute_result",
          "data": {
            "text/plain": [
              "0.9935314227110057"
            ]
          },
          "metadata": {},
          "execution_count": 97
        }
      ]
    },
    {
      "cell_type": "code",
      "source": [
        "print(classification_report(y_test, y_predict_xgb))"
      ],
      "metadata": {
        "colab": {
          "base_uri": "https://localhost:8080/"
        },
        "id": "izvzGIFvKmg0",
        "outputId": "2964334f-878e-4e0c-d19e-ee49259f925c"
      },
      "execution_count": 99,
      "outputs": [
        {
          "output_type": "stream",
          "name": "stdout",
          "text": [
            "              precision    recall  f1-score   support\n",
            "\n",
            "           0       0.97      0.96      0.97     29575\n",
            "           1       0.96      0.97      0.97     29425\n",
            "\n",
            "    accuracy                           0.97     59000\n",
            "   macro avg       0.97      0.97      0.97     59000\n",
            "weighted avg       0.97      0.97      0.97     59000\n",
            "\n"
          ]
        }
      ]
    },
    {
      "cell_type": "code",
      "source": [
        "plot_confusion_matrix(model_xgb, x_test, y_test)\n",
        "plt.show()"
      ],
      "metadata": {
        "colab": {
          "base_uri": "https://localhost:8080/",
          "height": 279
        },
        "id": "vsH-yNBSLQQn",
        "outputId": "b1eaafc2-c748-4a8c-b5e3-ff99a9a37072"
      },
      "execution_count": 101,
      "outputs": [
        {
          "output_type": "display_data",
          "data": {
            "text/plain": [
              "<Figure size 432x288 with 2 Axes>"
            ],
            "image/png": "[encoded data removed]"
          },
          "metadata": {
            "needs_background": "light"
          }
        }
      ]
    },
    {
      "cell_type": "code",
      "source": [],
      "metadata": {
        "id": "gjtNRxfwLZtc"
      },
      "execution_count": null,
      "outputs": []
    }
  ]
}